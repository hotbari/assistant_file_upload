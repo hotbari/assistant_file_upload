{
 "cells": [
  {
   "cell_type": "code",
   "execution_count": null,
   "id": "8e06e3c9",
   "metadata": {},
   "outputs": [],
   "source": [
    "%pip install streamlit"
   ]
  },
  {
   "cell_type": "code",
   "execution_count": 4,
   "id": "dbe72544",
   "metadata": {},
   "outputs": [],
   "source": [
    "import os\n",
    "from openai import OpenAI\n",
    "from dotenv import load_dotenv\n",
    "import time\n",
    "import json\n",
    "import streamlit as st"
   ]
  },
  {
   "cell_type": "code",
   "execution_count": 5,
   "id": "0b81c54c",
   "metadata": {},
   "outputs": [
    {
     "data": {
      "text/plain": [
       "True"
      ]
     },
     "execution_count": 5,
     "metadata": {},
     "output_type": "execute_result"
    }
   ],
   "source": [
    "# 환경변수 로드\n",
    "load_dotenv()"
   ]
  },
  {
   "cell_type": "markdown",
   "id": "82e7cdbc",
   "metadata": {},
   "source": [
    "# 함수 정의"
   ]
  },
  {
   "cell_type": "code",
   "execution_count": 6,
   "id": "f84a3d48",
   "metadata": {},
   "outputs": [],
   "source": [
    "def __init__(self):\n",
    "    self.client = OpenAI(api_key=os.getenv('OPENAI_API_KEY'))\n",
    "    self.assistant_id = os.getenv('ASSISTANT_ID')\n",
    "    self.vector_store_id = os.getenv('VECTOR_STORE_ID')\n"
   ]
  },
  {
   "cell_type": "code",
   "execution_count": null,
   "id": "c551a000",
   "metadata": {},
   "outputs": [],
   "source": [
    "def upload_file_to_assistant(self, file_path):\n",
    "        \"\"\"\n",
    "        파일 업로드 후 벡터 스토어에 추가\n",
    "        \"\"\"\n",
    "        try:\n",
    "            with open(file_path,'rb') as f:\n",
    "                uploaded_file = self.client.files.create(\n",
    "                    file=f,\n",
    "                    purpose='assistants'\n",
    "                )\n",
    "\n",
    "            self.client.beta.vector_stores.files.create(\n",
    "                vector_stroe_id = self.vector_store_id,\n",
    "                file_id=uploaded_file.id\n",
    "            )\n",
    "\n",
    "            return uploaded_file.id\n",
    "        \n",
    "        except Exception as e:\n",
    "            st.error(f\"---ERROR for file uploading---\")\n",
    "            return None"
   ]
  },
  {
   "cell_type": "code",
   "execution_count": null,
   "id": "dede7edd",
   "metadata": {},
   "outputs": [],
   "source": [
    "def create_thread_and_run(self, uploaded_files, prompt):\n",
    "    \"\"\"\n",
    "    스레드 생성, Assistant 실행\n",
    "    \"\"\"\n",
    "    try:\n",
    "        # 스레드 생성\n",
    "        thread = self.client.beta.threads.create()\n",
    "\n",
    "        message_content = prompt\n",
    "\n",
    "        if uploaded_files:\n",
    "            message_content += f\"\\n\\n첨부된 파일들을 분석하여 TTL 파일을 생성해주세요.\"\n",
    "\n",
    "        message = self.client.beta.threads.message.create(\n",
    "            thread_id = thread.id,\n",
    "            rold = \"user\",\n",
    "            content=message_content,\n",
    "            attachments = [{\"file_id\": file_id, \n",
    "                            \"tools\":[{\"type\": \"file_search\"}]}\n",
    "                            for file_id in uploaded_files] if uploaded_files else []\n",
    "        )\n",
    "\n",
    "        run = self.client.beta.threads.runs.create(\n",
    "            thread_id=thread.id,\n",
    "            assisant_id=self.assitant_id,\n",
    "            additional_instructions=\"목차를 기준으로 다른 문서들을 분석하여 OWL/RDF 표준에 맞는 TTL 파일을 생성해주세요. TTL 파일은 Turtle 형식으로 작성하고, 적절한 네임스페이스와 클래스, 속성을 정의해주세요.\"\n",
    "        )\n",
    "\n",
    "        return thread.id, run.id\n",
    "\n",
    "    except Exception as e:\n",
    "        st.error(f\"---Error for create and run threads: {str{e}} \")\n",
    "        return None, None"
   ]
  }
 ],
 "metadata": {
  "kernelspec": {
   "display_name": "Python 3",
   "language": "python",
   "name": "python3"
  },
  "language_info": {
   "codemirror_mode": {
    "name": "ipython",
    "version": 3
   },
   "file_extension": ".py",
   "mimetype": "text/x-python",
   "name": "python",
   "nbconvert_exporter": "python",
   "pygments_lexer": "ipython3",
   "version": "3.11.9"
  }
 },
 "nbformat": 4,
 "nbformat_minor": 5
}
