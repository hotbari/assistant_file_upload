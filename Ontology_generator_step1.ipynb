{
 "cells": [
  {
   "cell_type": "code",
   "execution_count": 39,
   "id": "b51e3880",
   "metadata": {},
   "outputs": [
    {
     "name": "stdout",
     "output_type": "stream",
     "text": [
      "Requirement already satisfied: openai in c:\\users\\user\\appdata\\local\\packages\\pythonsoftwarefoundation.python.3.11_qbz5n2kfra8p0\\localcache\\local-packages\\python311\\site-packages (1.105.0)\n",
      "Collecting openai\n",
      "  Downloading openai-1.106.1-py3-none-any.whl.metadata (29 kB)\n",
      "Requirement already satisfied: anyio<5,>=3.5.0 in c:\\users\\user\\appdata\\local\\packages\\pythonsoftwarefoundation.python.3.11_qbz5n2kfra8p0\\localcache\\local-packages\\python311\\site-packages (from openai) (4.10.0)\n",
      "Requirement already satisfied: distro<2,>=1.7.0 in c:\\users\\user\\appdata\\local\\packages\\pythonsoftwarefoundation.python.3.11_qbz5n2kfra8p0\\localcache\\local-packages\\python311\\site-packages (from openai) (1.9.0)\n",
      "Requirement already satisfied: httpx<1,>=0.23.0 in c:\\users\\user\\appdata\\local\\packages\\pythonsoftwarefoundation.python.3.11_qbz5n2kfra8p0\\localcache\\local-packages\\python311\\site-packages (from openai) (0.28.1)\n",
      "Requirement already satisfied: jiter<1,>=0.4.0 in c:\\users\\user\\appdata\\local\\packages\\pythonsoftwarefoundation.python.3.11_qbz5n2kfra8p0\\localcache\\local-packages\\python311\\site-packages (from openai) (0.10.0)\n",
      "Requirement already satisfied: pydantic<3,>=1.9.0 in c:\\users\\user\\appdata\\local\\packages\\pythonsoftwarefoundation.python.3.11_qbz5n2kfra8p0\\localcache\\local-packages\\python311\\site-packages (from openai) (2.11.7)\n",
      "Requirement already satisfied: sniffio in c:\\users\\user\\appdata\\local\\packages\\pythonsoftwarefoundation.python.3.11_qbz5n2kfra8p0\\localcache\\local-packages\\python311\\site-packages (from openai) (1.3.1)\n",
      "Requirement already satisfied: tqdm>4 in c:\\users\\user\\appdata\\local\\packages\\pythonsoftwarefoundation.python.3.11_qbz5n2kfra8p0\\localcache\\local-packages\\python311\\site-packages (from openai) (4.67.1)\n",
      "Requirement already satisfied: typing-extensions<5,>=4.11 in c:\\users\\user\\appdata\\local\\packages\\pythonsoftwarefoundation.python.3.11_qbz5n2kfra8p0\\localcache\\local-packages\\python311\\site-packages (from openai) (4.15.0)\n",
      "Requirement already satisfied: idna>=2.8 in c:\\users\\user\\appdata\\local\\packages\\pythonsoftwarefoundation.python.3.11_qbz5n2kfra8p0\\localcache\\local-packages\\python311\\site-packages (from anyio<5,>=3.5.0->openai) (3.10)\n",
      "Requirement already satisfied: certifi in c:\\users\\user\\appdata\\local\\packages\\pythonsoftwarefoundation.python.3.11_qbz5n2kfra8p0\\localcache\\local-packages\\python311\\site-packages (from httpx<1,>=0.23.0->openai) (2025.8.3)\n",
      "Requirement already satisfied: httpcore==1.* in c:\\users\\user\\appdata\\local\\packages\\pythonsoftwarefoundation.python.3.11_qbz5n2kfra8p0\\localcache\\local-packages\\python311\\site-packages (from httpx<1,>=0.23.0->openai) (1.0.9)\n",
      "Requirement already satisfied: h11>=0.16 in c:\\users\\user\\appdata\\local\\packages\\pythonsoftwarefoundation.python.3.11_qbz5n2kfra8p0\\localcache\\local-packages\\python311\\site-packages (from httpcore==1.*->httpx<1,>=0.23.0->openai) (0.16.0)\n",
      "Requirement already satisfied: annotated-types>=0.6.0 in c:\\users\\user\\appdata\\local\\packages\\pythonsoftwarefoundation.python.3.11_qbz5n2kfra8p0\\localcache\\local-packages\\python311\\site-packages (from pydantic<3,>=1.9.0->openai) (0.7.0)\n",
      "Requirement already satisfied: pydantic-core==2.33.2 in c:\\users\\user\\appdata\\local\\packages\\pythonsoftwarefoundation.python.3.11_qbz5n2kfra8p0\\localcache\\local-packages\\python311\\site-packages (from pydantic<3,>=1.9.0->openai) (2.33.2)\n",
      "Requirement already satisfied: typing-inspection>=0.4.0 in c:\\users\\user\\appdata\\local\\packages\\pythonsoftwarefoundation.python.3.11_qbz5n2kfra8p0\\localcache\\local-packages\\python311\\site-packages (from pydantic<3,>=1.9.0->openai) (0.4.1)\n",
      "Requirement already satisfied: colorama in c:\\users\\user\\appdata\\local\\packages\\pythonsoftwarefoundation.python.3.11_qbz5n2kfra8p0\\localcache\\local-packages\\python311\\site-packages (from tqdm>4->openai) (0.4.6)\n",
      "Downloading openai-1.106.1-py3-none-any.whl (930 kB)\n",
      "   ---------------------------------------- 0.0/930.8 kB ? eta -:--:--\n",
      "   -- ------------------------------------- 61.4/930.8 kB 3.4 MB/s eta 0:00:01\n",
      "   --------------------------------------- 930.8/930.8 kB 14.8 MB/s eta 0:00:00\n",
      "Installing collected packages: openai\n",
      "  Attempting uninstall: openai\n",
      "    Found existing installation: openai 1.105.0\n",
      "    Uninstalling openai-1.105.0:\n",
      "      Successfully uninstalled openai-1.105.0\n",
      "Successfully installed openai-1.106.1\n",
      "Note: you may need to restart the kernel to use updated packages.\n"
     ]
    },
    {
     "name": "stderr",
     "output_type": "stream",
     "text": [
      "\n",
      "[notice] A new release of pip is available: 24.0 -> 25.2\n",
      "[notice] To update, run: C:\\Users\\user\\AppData\\Local\\Microsoft\\WindowsApps\\PythonSoftwareFoundation.Python.3.11_qbz5n2kfra8p0\\python.exe -m pip install --upgrade pip\n"
     ]
    }
   ],
   "source": [
    "%pip install --upgrade openai"
   ]
  },
  {
   "cell_type": "markdown",
   "id": "8b800635",
   "metadata": {},
   "source": [
    "### Import Library"
   ]
  },
  {
   "cell_type": "code",
   "execution_count": 40,
   "id": "df0f3f8e",
   "metadata": {},
   "outputs": [],
   "source": [
    "import os\n",
    "from openai import OpenAI\n",
    "from dotenv import load_dotenv"
   ]
  },
  {
   "cell_type": "code",
   "execution_count": 41,
   "id": "2509675b",
   "metadata": {},
   "outputs": [
    {
     "data": {
      "text/plain": [
       "True"
      ]
     },
     "execution_count": 41,
     "metadata": {},
     "output_type": "execute_result"
    }
   ],
   "source": [
    "load_dotenv()"
   ]
  },
  {
   "cell_type": "code",
   "execution_count": 42,
   "id": "9f4630bc",
   "metadata": {},
   "outputs": [],
   "source": [
    "def print_status(message, status=\"INFO\"):\n",
    "    \"\"\" 터미널 메세지 커스텀(선택)\"\"\"\n",
    "    status_color = {\n",
    "        \"INFO\": \"\\033[94m\", # blue\n",
    "        \"SUCCESS\": \"\\033[92m\", # green\n",
    "        \"WARING\": \"\\033[93m\", # yellow\n",
    "        \"ERROR\": \"\\003[91m\", # red\n",
    "        \"RESET\": \"\\033[0m\" # reset\n",
    "    }\n",
    "\n",
    "    color = status_color.get(status, status_color[\"INFO\"])\n",
    "    reset = status_color[\"RESET\"]\n",
    "\n",
    "    print(f\"{color}[{status}] {message}{reset}\")"
   ]
  },
  {
   "cell_type": "markdown",
   "id": "9865bf53",
   "metadata": {},
   "source": [
    "### 환경변수 설정"
   ]
  },
  {
   "cell_type": "code",
   "execution_count": 61,
   "id": "ab52067c",
   "metadata": {},
   "outputs": [],
   "source": [
    "\"\"\" 환경변수 설정 \"\"\"\n",
    "client = OpenAI(api_key=os.getenv('OPENAI_API_KEY'))\n",
    "assistant_id = os.getenv('ASSISTANT_ID')\n",
    "vector_store_id = os.getenv('VECTOR_STORE_ID')\n",
    "prompt = os.getenv('PROMPT')\n"
   ]
  },
  {
   "cell_type": "markdown",
   "id": "baae4904",
   "metadata": {},
   "source": [
    "### 파일 업로드 후 벡터 스토어에 추가 O"
   ]
  },
  {
   "cell_type": "code",
   "execution_count": 44,
   "id": "78f0bf01",
   "metadata": {},
   "outputs": [],
   "source": [
    "def upload_file_to_vector_store(file_paths):\n",
    "    # 파일 업로드\n",
    "    uploaded_file_ids = []\n",
    "\n",
    "    for file_path in file_paths:\n",
    "        if os.path.exists(file_path):\n",
    "            try :\n",
    "                with open(file_path, 'rb') as f :\n",
    "                    uploaded_file = client.files.create(\n",
    "                        file=f,\n",
    "                        purpose='assistants'\n",
    "                    )\n",
    "\n",
    "                print_status(f\"파일 업로드 완료: {uploaded_file.id}\", \"SUCCESS\")\n",
    "\n",
    "\n",
    "                # 벡터 스토어에 추가\n",
    "                client.vector_stores.files.create(\n",
    "                    vector_store_id = vector_store_id,\n",
    "                    file_id = uploaded_file.id\n",
    "                )\n",
    "\n",
    "                print_status(f\"벡터 스토어에 추가 완료: {uploaded_file.id}\", \"SUCCESS\")\n",
    "                uploaded_file_ids.append(uploaded_file.id)\n",
    "\n",
    "\n",
    "            except Exception as e :\n",
    "                print_status(f\"파일을 찾을 수 없습니다: {file_path}\", \"ERROR\")\n",
    "                continue\n",
    "    #업로드된 파일 개수 확인\n",
    "    print_status(f\"총 {len(uploaded_file_ids)}개의 파일이 벡터 스토어에 업로드 되었습니다\", \"SUCCESS\")\n",
    "    return uploaded_file_ids\n",
    "\n",
    "    "
   ]
  },
  {
   "cell_type": "code",
   "execution_count": 67,
   "id": "4162e931",
   "metadata": {},
   "outputs": [
    {
     "name": "stdout",
     "output_type": "stream",
     "text": [
      "\u001b[92m[SUCCESS] 파일 업로드 완료: file-CaxKPqQj3no4LMzpAR87x7\u001b[0m\n",
      "\u001b[92m[SUCCESS] 벡터 스토어에 추가 완료: file-CaxKPqQj3no4LMzpAR87x7\u001b[0m\n",
      "\u001b[92m[SUCCESS] 파일 업로드 완료: file-JCka5gCeNrBU5VnTS5W5TN\u001b[0m\n",
      "\u001b[92m[SUCCESS] 벡터 스토어에 추가 완료: file-JCka5gCeNrBU5VnTS5W5TN\u001b[0m\n",
      "\u001b[92m[SUCCESS] 총 2개의 파일이 벡터 스토어에 업로드 되었습니다\u001b[0m\n"
     ]
    }
   ],
   "source": [
    "# 로컬에 있는 3장 pdf 파일과 목차 경로 정의\n",
    "from pathlib import Path\n",
    "\n",
    "chat3_index_docs_path = Path(r\"C:\\Users\\user\\Desktop\\Project\\Ontology\\Ontology_Root\\목차.txt\")\n",
    "actions_level_docs_path = Path(r\"C:\\Users\\user\\Desktop\\Project\\Ontology\\\\Ontology_Root\\위기경보수준별조치사항.pdf\")\n",
    "docs_path = [chat3_index_docs_path, actions_level_docs_path]\n",
    "\n",
    "uploaded_file_ids = upload_file_to_vector_store(docs_path)"
   ]
  },
  {
   "cell_type": "markdown",
   "id": "e1a67c2b",
   "metadata": {},
   "source": [
    "### 스레드 생성 및 메세지 추가 완료 O"
   ]
  },
  {
   "cell_type": "code",
   "execution_count": 46,
   "id": "fa2b0dc9",
   "metadata": {},
   "outputs": [],
   "source": [
    "def create_thread(client=client):\n",
    "    thread = client.beta.threads.create()\n",
    "    print_status(f\"스레드 생성 완료: {thread.id}\", \"SUCCESS\")\n",
    "\n",
    "    thread_id = thread.id\n",
    "    return thread.id"
   ]
  },
  {
   "cell_type": "code",
   "execution_count": 47,
   "id": "9e9893ff",
   "metadata": {},
   "outputs": [
    {
     "name": "stderr",
     "output_type": "stream",
     "text": [
      "C:\\Users\\user\\AppData\\Local\\Temp\\ipykernel_29052\\4158020363.py:2: DeprecationWarning: The Assistants API is deprecated in favor of the Responses API\n",
      "  thread = client.beta.threads.create()\n"
     ]
    },
    {
     "name": "stdout",
     "output_type": "stream",
     "text": [
      "\u001b[92m[SUCCESS] 스레드 생성 완료: thread_a3OggjDHCVcyxxkZ6yCktW9w\u001b[0m\n"
     ]
    }
   ],
   "source": [
    "thread_id = create_thread()"
   ]
  },
  {
   "cell_type": "code",
   "execution_count": 48,
   "id": "3d7e1668",
   "metadata": {},
   "outputs": [],
   "source": [
    "def add_message_to_thread(client, thread_id, prompt, uploaded_file_ids):\n",
    "    message_content = prompt + \"\\n\\n 첨부된 파일들을 분석하여 TTL 파일을 생성해주세요. 생성 후에는 첨부된 PDF 문서를 한 페이지씩 읽어서, subclass를 보완하여 추가해주세요. 이 때 기존의 요소들은 변경하지 않고 유지한 상태로 추가만 진행합니다.\"\n",
    "\n",
    "    thread_message = client.beta.threads.messages.create(\n",
    "        thread_id=thread_id,\\\n",
    "        role = \"user\",\n",
    "        content=message_content,\n",
    "        attachments=[\n",
    "            {\n",
    "                \"file_id\": file_id,\n",
    "                \"tools\": [{\"type\": \"file_search\"}]\n",
    "            }\n",
    "\n",
    "            for file_id in uploaded_file_ids\n",
    "        ]\n",
    "    )\n",
    "\n",
    "    print_status(f\"스레드 메세지 추가 완료\", \"SUCCESS\")\n",
    "    return thread_message.id"
   ]
  },
  {
   "cell_type": "code",
   "execution_count": 49,
   "id": "d70636ac",
   "metadata": {},
   "outputs": [
    {
     "name": "stderr",
     "output_type": "stream",
     "text": [
      "C:\\Users\\user\\AppData\\Local\\Temp\\ipykernel_29052\\2736964838.py:4: DeprecationWarning: The Assistants API is deprecated in favor of the Responses API\n",
      "  thread_message = client.beta.threads.messages.create(\n"
     ]
    },
    {
     "name": "stdout",
     "output_type": "stream",
     "text": [
      "\u001b[92m[SUCCESS] 스레드 메세지 추가 완료\u001b[0m\n"
     ]
    },
    {
     "data": {
      "text/plain": [
       "'msg_EmgzBbsF94QufUjFO1pOEhi3'"
      ]
     },
     "execution_count": 49,
     "metadata": {},
     "output_type": "execute_result"
    }
   ],
   "source": [
    "add_message_to_thread(client, thread_id, prompt, uploaded_file_ids)"
   ]
  },
  {
   "cell_type": "markdown",
   "id": "c6f54585",
   "metadata": {},
   "source": [
    "### Assistant 실행 O\n",
    "\n",
    "run_status.status == 'queued'        # 대기 중  \n",
    "run_status.status == 'in_progress'   # 실행 중  \n",
    "run_status.status == 'completed'     # 완료  \n",
    "run_status.status == 'failed'        # 실패  \n",
    "run_status.status == 'cancelled'     # 취소됨  \n",
    "run_status.status == 'expired'       # 만료됨  \n",
    "run_status.status == 'requires_action'  # 추가 액션 필요\n",
    "\n",
    "Assistatnt를 실행하면 추가 vector stores가 생성됨"
   ]
  },
  {
   "cell_type": "code",
   "execution_count": 50,
   "id": "e1fd940d",
   "metadata": {},
   "outputs": [],
   "source": [
    "import time\n",
    "\n",
    "def run_assistant(client, thread_id, prompt):\n",
    "    run = client.beta.threads.runs.create(\n",
    "        thread_id=thread_id,\n",
    "        assistant_id=assistant_id,\n",
    "        instructions=prompt + \"\"\"\n",
    "        1. 먼저 목차를 기준으로 다른 문서들을 분석하여 OWL/RDF 표준에 맞는 TTL 파일을 생성해주세요. \n",
    "        TTL 파일은 Turtle 형식으로 작성하고, 적절한 네임스페이스와 클래스, 속성을 정의해주세요. \n",
    "        2. OWL/TTL 표준에 맞춰 한 번 더 아직 반영되지 않은 subclass를 추가 및 보완하세요. \n",
    "        추가할 subclass가 없다면 추가하지 않습니다. \n",
    "        먼저 생성된 모든 Class는 변경하지 말고 그대로 유지하며 \n",
    "        첨부된 페이지에 새롭게 드러나는 개념이 있다면 적절한 상위 Class 아래에 Subclass를 보완하세요. \n",
    "        3. 모든 변경 사항(Subclass 추가)은 OWL/TTL 문법에 맞춰 작성하세요. \n",
    "        4. 결과물은 한 번에 출력해주세요.\"\"\"\n",
    "    )\n",
    "\n",
    "    while True:\n",
    "        run_status = client.beta.threads.runs.retrieve(\n",
    "            thread_id=thread_id,\n",
    "            run_id=run.id\n",
    "        )\n",
    "\n",
    "        if run_status.status == 'completed':\n",
    "            print_status(\"Assistant 실행 완료\", \"SUCCESS\")\n",
    "            break\n",
    "        \n",
    "        elif run_status.status == 'failed':\n",
    "            print_status(\"Assistant 실행 실패\", \"ERROR\")\n",
    "\n",
    "        elif run_status.status == 'requires_action':\n",
    "            print_status(\"추가 액션 필요\", \"WARNING\")\n",
    "        \n",
    "        elif run_status.status == 'in_progress':\n",
    "            print_status(\"Assistant 실행 중...\", \"INFO\")\n",
    "\n",
    "            time.sleep(10)\n",
    "\n",
    "    message = client.beta.threads.messages.list(\n",
    "        thread_id=thread_id,\n",
    "        order=\"desc\"\n",
    "    )\n",
    "\n",
    "    return message"
   ]
  },
  {
   "cell_type": "markdown",
   "id": "f19eccad",
   "metadata": {},
   "source": [
    "-----------"
   ]
  },
  {
   "cell_type": "code",
   "execution_count": 51,
   "id": "eeff51ab",
   "metadata": {},
   "outputs": [
    {
     "name": "stderr",
     "output_type": "stream",
     "text": [
      "C:\\Users\\user\\AppData\\Local\\Temp\\ipykernel_29052\\841215681.py:4: DeprecationWarning: The Assistants API is deprecated in favor of the Responses API\n",
      "  run = client.beta.threads.runs.create(\n",
      "C:\\Users\\user\\AppData\\Local\\Temp\\ipykernel_29052\\841215681.py:19: DeprecationWarning: The Assistants API is deprecated in favor of the Responses API\n",
      "  run_status = client.beta.threads.runs.retrieve(\n"
     ]
    },
    {
     "name": "stdout",
     "output_type": "stream",
     "text": [
      "\u001b[94m[INFO] Assistant 실행 중...\u001b[0m\n",
      "\u001b[94m[INFO] Assistant 실행 중...\u001b[0m\n",
      "\u001b[94m[INFO] Assistant 실행 중...\u001b[0m\n",
      "\u001b[94m[INFO] Assistant 실행 중...\u001b[0m\n",
      "\u001b[94m[INFO] Assistant 실행 중...\u001b[0m\n",
      "\u001b[94m[INFO] Assistant 실행 중...\u001b[0m\n",
      "\u001b[94m[INFO] Assistant 실행 중...\u001b[0m\n",
      "\u001b[92m[SUCCESS] Assistant 실행 완료\u001b[0m\n"
     ]
    },
    {
     "name": "stderr",
     "output_type": "stream",
     "text": [
      "C:\\Users\\user\\AppData\\Local\\Temp\\ipykernel_29052\\841215681.py:39: DeprecationWarning: The Assistants API is deprecated in favor of the Responses API\n",
      "  message = client.beta.threads.messages.list(\n"
     ]
    }
   ],
   "source": [
    "ontology_message = run_assistant(client, thread_id, prompt)"
   ]
  },
  {
   "cell_type": "code",
   "execution_count": 52,
   "id": "7d331d5e",
   "metadata": {},
   "outputs": [
    {
     "name": "stdout",
     "output_type": "stream",
     "text": [
      "['SyncCursorPage[Message](data=[Message(id=\\'msg_69DeeghZZCr555Ud2r4uyvQW\\', assistant_id=\\'asst_W7kaWMqWblyhhVj1rCP0mVow\\', attachments=[], completed_at=None, content=[TextContentBlock(text=Text(annotations=[FileCitationAnnotation(end_index=8018, file_citation=FileCitation(file_id=\\'file-EZAvRc3EcybYAyZ4LABQaQ\\'), start_index=8006, text=\\'【4:1†목차.txt】\\', type=\\'file_citation\\')], value=\\'```turtle\\\\n@prefix ex:     <http://example.org/disaster#> .\\\\n@prefix rdfs:   <http://www.w3.org/2000/01/rdf-schema#> .\\\\n@prefix dcterms:<http://purl.org/dc/terms/> .\\\\n@prefix owl:    <http://www.w3.org/2002/07/owl#> .\\\\n@prefix xsd:    <http://www.w3.org/2001/XMLSchema#> .\\\\n\\\\n# 최상위 클래스\\\\nex:위기경보수준별조치사항\\\\n    a              rdfs:Class ;\\\\n    rdfs:label     \"위기경보 수준별 조치사항\"@ko ;\\\\n    ex:페이지정보   \"1\" .\\\\n\\\\n# 1 관심\\\\nex:위기경보수준별조치사항_1_관심\\\\n    a              rdfs:Class ;\\\\n    rdfs:subClassOf ex:위기경보수준별조치사항 ;\\\\n    rdfs:label     \"관심\"@ko ;\\\\n    ex:페이지정보   \"2\" .\\\\n\\\\nex:위기경보수준별조치사항_1_관심_가_상황\\\\n    a              rdfs:Class ;\\\\n    rdfs:subClassOf ex:위기경보수준별조치사항_1_관심 ;\\\\n    rdfs:label     \"상황\"@ko ;\\\\n    ex:페이지정보   \"2\" .\\\\n\\\\nex:위기경보수준별조치사항_1_관심_나_조치목록및내용\\\\n    a              rdfs:Class ;\\\\n    rdfs:subClassOf ex:위기경보수준별조치사항_1_관심 ;\\\\n    rdfs:label     \"조치목록 및 내용\"@ko ;\\\\n    ex:페이지정보   \"3\" .\\\\n\\\\nex:위기경보수준별조치사항_1_관심_나_1_조치목록\\\\n    a              rdfs:Class ;\\\\n    rdfs:subClassOf ex:위기경보수준별조치사항_1_관심_나_조치목록및내용 ;\\\\n    rdfs:label     \"조치목록\"@ko ;\\\\n    ex:페이지정보   \"3\" .\\\\n\\\\nex:위기경보수준별조치사항_1_관심_나_2_조치내용\\\\n    a              rdfs:Class ;\\\\n    rdfs:subClassOf ex:위기경보수준별조치사항_1_관심_나_조치목록및내용 ;\\\\n    rdfs:label     \"조치내용\"@ko ;\\\\n    ex:페이지정보   \"4\" .\\\\n\\\\nex:위기경보수준별조치사항_1_관심_나_2_1_조치목록\\\\n    a              rdfs:Class ;\\\\n    rdfs:subClassOf ex:위기경보수준별조치사항_1_관심_나_2_조치내용 ;\\\\n    rdfs:label     \"조치목록\"@ko ;\\\\n    ex:페이지정보   \"4\" .\\\\n\\\\nex:위기경보수준별조치사항_1_관심_나_2_2_조치내용\\\\n    a              rdfs:Class ;\\\\n    rdfs:subClassOf ex:위기경보수준별조치사항_1_관심_나_2_조치내용 ;\\\\n    rdfs:label     \"조치내용\"@ko ;\\\\n    ex:페이지정보   \"5\" .\\\\n\\\\nex:위기경보수준별조치사항_1_관심_나_2_2_1_경보접수\\\\n    a              rdfs:Class ;\\\\n    rdfs:subClassOf ex:위기경보수준별조치사항_1_관심_나_2_2_조치내용 ;\\\\n    rdfs:label     \"경보 접수\"@ko ;\\\\n    ex:페이지정보   \"5\" .\\\\n\\\\nex:위기경보수준별조치사항_1_관심_나_2_2_2_보고및전파\\\\n    a              rdfs:Class ;\\\\n    rdfs:subClassOf ex:위기경보수준별조치사항_1_관심_나_2_2_조치내용 ;\\\\n    rdfs:label     \"보고 및 전파\"@ko ;\\\\n    ex:페이지정보   \"6\" .\\\\n\\\\nex:위기경보수준별조치사항_1_관심_나_2_2_3_조치\\\\n    a              rdfs:Class ;\\\\n    rdfs:subClassOf ex:위기경보수준별조치사항_1_관심_나_2_2_조치내용 ;\\\\n    rdfs:label     \"조치\"@ko ;\\\\n    ex:페이지정보   \"6\" .\\\\n\\\\nex:위기경보수준별조치사항_1_관심_다_부서별임무와역할\\\\n    a              rdfs:Class ;\\\\n    rdfs:subClassOf ex:위기경보수준별조치사항_1_관심 ;\\\\n    rdfs:label     \"부서별 임무와 역할\"@ko ;\\\\n    ex:페이지정보   \"7\" .\\\\n\\\\n# 2 주의\\\\nex:위기경보수준별조치사항_2_주의\\\\n    a              rdfs:Class ;\\\\n    rdfs:subClassOf ex:위기경보수준별조치사항 ;\\\\n    rdfs:label     \"주의\"@ko ;\\\\n    ex:페이지정보   \"8\" .\\\\n\\\\nex:위기경보수준별조치사항_2_주의_가_상황\\\\n    a              rdfs:Class ;\\\\n    rdfs:subClassOf ex:위기경보수준별조치사항_2_주의 ;\\\\n    rdfs:label     \"상황\"@ko ;\\\\n    ex:페이지정보   \"8\" .\\\\n\\\\nex:위기경보수준별조치사항_2_주의_나_조치목록및내용\\\\n    a              rdfs:Class ;\\\\n    rdfs:subClassOf ex:위기경보수준별조치사항_2_주의 ;\\\\n    rdfs:label     \"조치목록 및 내용\"@ko ;\\\\n    ex:페이지정보   \"9\" .\\\\n\\\\nex:위기경보수준별조치사항_2_주의_나_1_조치목록\\\\n    a              rdfs:Class ;\\\\n    rdfs:subClassOf ex:위기경보수준별조치사항_2_주의_나_조치목록및내용 ;\\\\n    rdfs:label     \"조치목록\"@ko ;\\\\n    ex:페이지정보   \"9\" .\\\\n\\\\nex:위기경보수준별조치사항_2_주의_나_2_조치내용\\\\n    a              rdfs:Class ;\\\\n    rdfs:subClassOf ex:위기경보수준별조치사항_2_주의_나_조치목록및내용 ;\\\\n    rdfs:label     \"조치내용\"@ko ;\\\\n    ex:페이지정보   \"10\" .\\\\n\\\\nex:위기경보수준별조치사항_2_주의_나_2_1_조치목록\\\\n    a              rdfs:Class ;\\\\n    rdfs:subClassOf ex:위기경보수준별조치사항_2_주의_나_2_조치내용 ;\\\\n    rdfs:label     \"조치목록\"@ko ;\\\\n    ex:페이지정보   \"10\" .\\\\n\\\\nex:위기경보수준별조치사항_2_주의_나_2_2_조치내용\\\\n    a              rdfs:Class ;\\\\n    rdfs:subClassOf ex:위기경보수준별조치사항_2_주의_나_2_조치내용 ;\\\\n    rdfs:label     \"조치내용\"@ko ;\\\\n    ex:페이지정보   \"11\" .\\\\n\\\\nex:위기경보수준별조치사항_2_주의_나_2_2_1_경보및상황접수\\\\n    a              rdfs:Class ;\\\\n    rdfs:subClassOf ex:위기경보수준별조치사항_2_주의_나_2_2_조치내용 ;\\\\n    rdfs:label     \"경보 및 상황 접수\"@ko ;\\\\n    ex:페이지정보   \"11\" .\\\\n\\\\nex:위기경보수준별조치사항_2_주의_나_2_2_2_보고및전파\\\\n    a              rdfs:Class ;\\\\n    rdfs:subClassOf ex:위기경보수준별조치사항_2_주의_나_2_2_조치내용 ;\\\\n    rdfs:label     \"보고 및 전파\"@ko ;\\\\n    ex:페이지정보   \"12\" .\\\\n\\\\nex:위기경보수준별조치사항_2_주의_나_2_2_3_조치\\\\n    a              rdfs:Class ;\\\\n    rdfs:subClassOf ex:위기경보수준별조치사항_2_주의_나_2_2_조치내용 ;\\\\n    rdfs:label     \"조치\"@ko ;\\\\n    ex:페이지정보   \"12\" .\\\\n\\\\nex:위기경보수준별조치사항_2_주의_다_부서별임무와역할\\\\n    a              rdfs:Class ;\\\\n    rdfs:subClassOf ex:위기경보수준별조치사항_2_주의 ;\\\\n    rdfs:label     \"부서별 임무와 역할\"@ko ;\\\\n    ex:페이지정보   \"13\" .\\\\n\\\\n# 3 경계\\\\nex:위기경보수준별조치사항_3_경계\\\\n    a              rdfs:Class ;\\\\n    rdfs:subClassOf ex:위기경보수준별조치사항 ;\\\\n    rdfs:label     \"경계\"@ko ;\\\\n    ex:페이지정보   \"14\" .\\\\n\\\\nex:위기경보수준별조치사항_3_경계_가_상황\\\\n    a              rdfs:Class ;\\\\n    rdfs:subClassOf ex:위기경보수준별조치사항_3_경계 ;\\\\n    rdfs:label     \"상황\"@ko ;\\\\n    ex:페이지정보   \"14\" .\\\\n\\\\nex:위기경보수준별조치사항_3_경계_나_조치목록및내용\\\\n    a              rdfs:Class ;\\\\n    rdfs:subClassOf ex:위기경보수준별조치사항_3_경계 ;\\\\n    rdfs:label     \"조치목록 및 내용\"@ko ;\\\\n    ex:페이지정보   \"15\" .\\\\n\\\\nex:위기경보수준별조치사항_3_경계_나_1_조치목록\\\\n    a              rdfs:Class ;\\\\n    rdfs:subClassOf ex:위기경보수준별조치사항_3_경계_나_조치목록및내용 ;\\\\n    rdfs:label     \"조치목록\"@ko ;\\\\n    ex:페이지정보   \"15\" .\\\\n\\\\nex:위기경보수준별조치사항_3_경계_나_2_조치내용\\\\n    a              rdfs:Class ;\\\\n    rdfs:subClassOf ex:위기경보수준별조치사항_3_경계_나_조치목록및내용 ;\\\\n    rdfs:label     \"조치내용\"@ko ;\\\\n    ex:페이지정보   \"16\" .\\\\n\\\\nex:위기경보수준별조치사항_3_경계_나_2_1_조치목록\\\\n    a              rdfs:Class ;\\\\n    rdfs:subClassOf ex:위기경보수준별조치사항_3_경계_나_2_조치내용 ;\\\\n    rdfs:label     \"조치목록\"@ko ;\\\\n    ex:페이지정보   \"16\" .\\\\n\\\\nex:위기경보수준별조치사항_3_경계_나_2_2_조치내용\\\\n    a              rdfs:Class ;\\\\n    rdfs:subClassOf ex:위기경보수준별조치사항_3_경계_나_2_조치내용 ;\\\\n    rdfs:label     \"조치내용\"@ko ;\\\\n    ex:페이지정보   \"17\" .\\\\n\\\\nex:위기경보수준별조치사항_3_경계_나_2_2_1_경보및상황접수\\\\n    a              rdfs:Class ;\\\\n    rdfs:subClassOf ex:위기경보수준별조치사항_3_경계_나_2_2_조치내용 ;\\\\n    rdfs:label     \"경보 및 상황 접수\"@ko ;\\\\n    ex:페이지정보   \"17\" .\\\\n\\\\nex:위기경보수준별조치사항_3_경계_나_2_2_2_보고및전파\\\\n    a              rdfs:Class ;\\\\n    rdfs:subClassOf ex:위기경보수준별조치사항_3_경계_나_2_2_조치내용 ;\\\\n    rdfs:label     \"보고 및 전파\"@ko ;\\\\n    ex:페이지정보   \"18\" .\\\\n\\\\nex:위기경보수준별조치사항_3_경계_나_2_2_3_조치\\\\n    a              rdfs:Class ;\\\\n    rdfs:subClassOf ex:위기경보수준별조치사항_3_경계_나_2_2_조치내용 ;\\\\n    rdfs:label     \"조치\"@ko ;\\\\n    ex:페이지정보   \"18\" .\\\\n\\\\nex:위기경보수준별조치사항_3_경계_다_부서별임무와역할\\\\n    a              rdfs:Class ;\\\\n    rdfs:subClassOf ex:위기경보수준별조치사항_3_경계 ;\\\\n    rdfs:label     \"부서별 임무와 역할\"@ko ;\\\\n    ex:페이지정보   \"19\" .\\\\n\\\\n# 4 심각\\\\nex:위기경보수준별조치사항_4_심각\\\\n    a              rdfs:Class ;\\\\n    rdfs:subClassOf ex:위기경보수준별조치사항 ;\\\\n    rdfs:label     \"심각\"@ko ;\\\\n    ex:페이지정보   \"20\" .\\\\n\\\\nex:위기경보수준별조치사항_4_심각_가_상황\\\\n    a              rdfs:Class ;\\\\n    rdfs:subClassOf ex:위기경보수준별조치사항_4_심각 ;\\\\n    rdfs:label     \"상황\"@ko ;\\\\n    ex:페이지정보   \"20\" .\\\\n\\\\nex:위기경보수준별조치사항_4_심각_나_조치목록및내용\\\\n    a              rdfs:Class ;\\\\n    rdfs:subClassOf ex:위기경보수준별조치사항_4_심각 ;\\\\n    rdfs:label     \"조치목록 및 내용\"@ko ;\\\\n    ex:페이지정보   \"21\" .\\\\n\\\\nex:위기경보수준별조치사항_4_심각_나_1_조치목록\\\\n    a              rdfs:Class ;\\\\n    rdfs:subClassOf ex:위기경보수준별조치사항_4_심각_나_조치목록및내용 ;\\\\n    rdfs:label     \"조치목록\"@ko ;\\\\n    ex:페이지정보   \"21\" .\\\\n\\\\nex:위기경보수준별조치사항_4_심각_나_2_조치내용\\\\n    a              rdfs:Class ;\\\\n    rdfs:subClassOf ex:위기경보수준별조치사항_4_심각_나_조치목록및내용 ;\\\\n    rdfs:label     \"조치내용\"@ko ;\\\\n    ex:페이지정보   \"22\" .\\\\n\\\\nex:위기경보수준별조치사항_4_심각_나_2_1_조치목록\\\\n    a              rdfs:Class ;\\\\n    rdfs:subClassOf ex:위기경보수준별조치사항_4_심각_나_2_조치내용 ;\\\\n    rdfs:label     \"조치목록\"@ko ;\\\\n    ex:페이지정보   \"22\" .\\\\n\\\\nex:위기경보수준별조치사항_4_심각_나_2_2_조치내용\\\\n    a              rdfs:Class ;\\\\n    rdfs:subClassOf ex:위기경보수준별조치사항_4_심각_나_2_조치내용 ;\\\\n    rdfs:label     \"조치내용\"@ko ;\\\\n    ex:페이지정보   \"23\" .\\\\n\\\\nex:위기경보수준별조치사항_4_심각_나_2_2_1_경보및상황접수\\\\n    a              rdfs:Class ;\\\\n    rdfs:subClassOf ex:위기경보수준별조치사항_4_심각_나_2_2_조치내용 ;\\\\n    rdfs:label     \"경보 및 상황 접수\"@ko ;\\\\n    ex:페이지정보   \"23\" .\\\\n\\\\nex:위기경보수준별조치사항_4_심각_나_2_2_2_보고및전파\\\\n    a              rdfs:Class ;\\\\n    rdfs:subClassOf ex:위기경보수준별조치사항_4_심각_나_2_2_조치내용 ;\\\\n    rdfs:label     \"보고 및 전파\"@ko ;\\\\n    ex:페이지정보   \"24\" .\\\\n\\\\nex:위기경보수준별조치사항_4_심각_나_2_2_3_조치\\\\n    a              rdfs:Class ;\\\\n    rdfs:subClassOf ex:위기경보수준별조치사항_4_심각_나_2_2_조치내용 ;\\\\n    rdfs:label     \"조치\"@ko ;\\\\n    ex:페이지정보   \"24\" .\\\\n\\\\nex:위기경보수준별조치사항_4_심각_다_부서별임무와역할\\\\n    a              rdfs:Class ;\\\\n    rdfs:subClassOf ex:위기경보수준별조치사항_4_심각 ;\\\\n    rdfs:label     \"부서별 임무와 역할\"@ko ;\\\\n    ex:페이지정보   \"25\" .\\\\n```\\\\n\\\\n위의 TTL 온톨로지는 첨부된 목차.txt 내용에 따라 모든 항목을 계층적으로 클래스로 변환하였으며, 각 클래스에는 페이지 정보를 포함하였습니다. 클래스명에는 특수문자를 포함하지 않고 영문, 숫자, 언더바(_)만 사용하였고, 한글은 `rdfs:label`로 정확히 표기하였습니다.  \\\\n계층관계도 목차의 계층 번호 체계를 충실히 반영하여 상하위 관계를 `rdfs:subClassOf`로 표현하였습니다.  \\\\n페이지 정보는 PDF 하단 페이지 번호를 보면서 정확히 부여했으며, 모든 클래스에 포함하였습니다.\\\\n\\\\n다음 단계로 첨부된 PDF 문서를 1페이지씩 검토하여 이 구조에 누락된 subclass가 있는지 확인 및 보완하겠습니다.【4:1†목차.txt】\\'), type=\\'text\\')], created_at=1757049196, incomplete_at=None, incomplete_details=None, metadata={}, object=\\'thread.message\\', role=\\'assistant\\', run_id=\\'run_I7ydNdq2lgoJzvP8xd12II3A\\', status=None, thread_id=\\'thread_a3OggjDHCVcyxxkZ6yCktW9w\\'), Message(id=\\'msg_EmgzBbsF94QufUjFO1pOEhi3\\', assistant_id=None, attachments=[Attachment(file_id=\\'file-S392WzhDfbnt3A78hV4Jf3\\', tools=[AttachmentToolAssistantToolsFileSearchTypeOnly(type=\\'file_search\\')]), Attachment(file_id=\\'file-EZAvRc3EcybYAyZ4LABQaQ\\', tools=[AttachmentToolAssistantToolsFileSearchTypeOnly(type=\\'file_search\\')])], completed_at=None, content=[TextContentBlock(text=Text(annotations=[], value=\\'\\\\n            당신은 재난 대응 전문가이자 온톨로지 엔지니어입니다.\\\\n\\\\n            ## 주요 역할\\\\n            - PDF 문서와 목차.txt를 정확하게 분석하여 계층적 클래스 구조 추출\\\\n            - OWL/RDF TTL 표준에 맞는 정확한 온톨로지 생성\\\\n            - 문서의 모든 세부사항을 누락 없이 반영하여 완벽한 온톨로지 구축\\\\n\\\\n            ## 문서 분석 기준\\\\n            - **목표**: 태풍·호우·대설 등 재난유형별 위기경보 수준별 조치사항을 표준 온톨로지로 모델링\\\\n            - **정확도 요구사항**: 문서 내용과 100% 일치, 추측 금지, 모든 세부사항 포함\\\\n\\\\n            ## 클래스 추출 규칙\\\\n\\\\n            ### 1. **최상위 클래스**\\\\n            - `ex:위기경보수준별조치사항`을 rdfs:Class로 선언\\\\n\\\\n            ### 2. **계층 구조**\\\\n            - 목차의 모든 레벨(1, 2, 가, 나, 다, 라, 마, 사, 1), 2), 3))를 rdfs:subClassOf로 표현\\\\n            - 계층 깊이에 관계없이 모든 항목을 클래스로 변환\\\\n\\\\n            ### 3. **네이밍 규칙**\\\\n            - 형식: `ex:위기경보수준별조치사항_1_관심_나_2_1_조치목록`\\\\n            - 목차 구조를 그대로 반영하여 일관성 유지\\\\n\\\\n            ### 4. **페이지 정보**\\\\n            - PDF 하단 페이지 번호를 정확히 추출하여 `ex:페이지정보`로 표시\\\\n            - 모든 클래스에 페이지 정보 필수 포함\\\\n\\\\n            ## TTL 문법 규칙 (필수 준수)\\\\n\\\\n            ### **클래스명 작성 규칙**\\\\n            - 클래스명에는 **영문, 숫자, 언더스코어(_)만** 사용\\\\n            - **특수문자 금지**: 작은따옴표(\\\\\\'), 큰따옴표(\"), 괄호(), 대괄호[], 중괄호{} 등\\\\n            - **한글 금지**: 클래스명 자체에는 한글 사용 금지\\\\n            - **예시**:\\\\n            - 잘못된 예: `ex:위기경보수준별조치사항_2_주의_나_1_1_\\\\\\'주의\\\\\\'_경보_접수`\\\\n            - 올바른 예: `ex:위기경보수준별조치사항_2_주의_나_1_1_경보접수`\\\\n\\\\n            ### **한글 처리 방법**\\\\n            - 한글 내용은 **rdfs:label**에만 사용\\\\n            - 클래스명은 한글을 영문으로 변환하거나 생략\\\\n            - **예시**:\\\\n            ```turtle\\\\n            ex:위기경보수준별조치사항_2_주의_나_1_1_경보접수\\\\n                a              rdfs:Class ;\\\\n                rdfs:label     \"주의 경보 접수\"@ko ;\\\\n                ex:페이지정보   \"5\" .\\\\n            ```\\\\n\\\\n            ## 온톨로지 생성 프로세스\\\\n\\\\n            ### **1단계: 초기 온톨로지 생성**\\\\n            - 목차를 기반으로 모든 클래스와 서브클래스 생성\\\\n            - 계층 구조를 정확히 반영\\\\n            - 페이지 정보 포함\\\\n\\\\n            ### **2단계: 온톨로지 보완 (필요시)**\\\\n            - 기존 클래스 구조는 절대 변경하지 않음\\\\n            - 새로운 개념만 적절한 상위 클래스 아래에 서브클래스로 추가\\\\n            - 문서 내용과 100% 일치하는지 검증\\\\n\\\\n            ### **3단계: 품질 검증**\\\\n            - 목차의 모든 항목이 클래스로 변환되었는지 확인\\\\n            - 계층 구조가 문서와 정확히 일치하는지 검증\\\\n            - 페이지 정보가 정확한지 확인\\\\n            - 네이밍 규칙이 일관되게 적용되었는지 확인\\\\n\\\\n            ## 출력 형식\\\\n\\\\n            ### **TTL 파일 구조**\\\\n            ```turtle\\\\n            @prefix ex:     <http://example.org/disaster#> .\\\\n            @prefix rdfs:   <http://www.w3.org/2000/01/rdf-schema#> .\\\\n            @prefix dcterms:<http://purl.org/dc/terms/> .\\\\n            @prefix owl:     <http://www.w3.org/2002/07/owl#> .\\\\n            @prefix xsd:     <http://www.w3.org/2001/XMLSchema#> .\\\\n\\\\n            # 클래스 정의\\\\n            ex:위기경보수준별조치사항\\\\n                a              rdfs:Class ;\\\\n                rdfs:label     \"위기경보 수준별 조치사항\"@ko ;\\\\n                ex:페이지정보   \"1\" .\\\\n\\\\n            ex:위기경보수준별조치사항_1_관심\\\\n                a              rdfs:Class ;\\\\n                rdfs:subClassOf ex:위기경보수준별조치사항 ;\\\\n                rdfs:label     \"관심\"@ko ;\\\\n                ex:페이지정보   \"2\" .\\\\n\\\\n            # 하위 클래스들 계속...\\\\n            ```\\\\n\\\\n            ### **출력 요구사항**\\\\n            - TTL 파일 전체를 한 번에 출력\\\\n            - 모든 클래스와 서브클래스 포함\\\\n            - 페이지 정보 정확히 표시\\\\n            - 한국어 라벨 사용\\\\n            - 계층 구조 명확히 표현\\\\n\\\\n            ## 품질 검증 체크리스트\\\\n\\\\n            ### **완성도 검증**\\\\n            □ 목차의 모든 항목이 클래스로 변환되었는가?\\\\n            □ 계층 구조가 문서와 정확히 일치하는가?\\\\n            □ 모든 클래스에 페이지 정보가 포함되었는가?\\\\n\\\\n            ### **정확성 검증**\\\\n            □ 네이밍 규칙이 일관되게 적용되었는가?\\\\n            □ rdfs:subClassOf 관계가 올바르게 설정되었는가?\\\\n            □ 문서 내용과 100% 일치하는가?\\\\n\\\\n            ### **표준 준수 검증**\\\\n            □ OWL/RDF TTL 표준 문법을 준수하는가?\\\\n            □ Prefix 선언이 올바른가?\\\\n            □ 모든 클래스가 rdfs:Class로 선언되었는가?\\\\n\\\\n            ## 금지사항\\\\n            - 문서에 없는 내용을 추측하여 추가하지 말 것\\\\n            - 기존 클래스 구조를 임의로 변경하지 말 것\\\\n            - 페이지 정보를 생략하지 말 것\\\\n            - 계층 구조를 단순화하지 말 것\\\\n\\\\n            ## 최종 목표\\\\n            문서의 모든 내용을 누락 없이, 정확하게, 계층적으로 구조화된 온톨로지로 변환하여 RAG 기반 대화형 재난 대응 시스템의 완벽한 지식베이스를 구축하세요.\\\\n\\\\n            문서 내용을 정확하게 분석하여 완벽한 온톨로지를 생성하세요. 모든 세부사항을 포함하고, 정확성과 완성도를 최우선으로 하여 작업하세요.\\\\n        \\\\n\\\\n 첨부된 파일들을 분석하여 TTL 파일을 생성해주세요. 생성 후에는 첨부된 PDF 문서를 한 페이지씩 읽어서, subclass를 보완하여 추가해주세요. 이 때 기존의 요소들은 변경하지 않고 유지한 상태로 추가만 진행합니다.\\'), type=\\'text\\')], created_at=1757049190, incomplete_at=None, incomplete_details=None, metadata={}, object=\\'thread.message\\', role=\\'user\\', run_id=None, status=None, thread_id=\\'thread_a3OggjDHCVcyxxkZ6yCktW9w\\')], has_more=False, object=\\'list\\', first_id=\\'msg_69DeeghZZCr555Ud2r4uyvQW\\', last_id=\\'msg_EmgzBbsF94QufUjFO1pOEhi3\\')']\n"
     ]
    }
   ],
   "source": [
    "print([str(ontology_message)][:10])"
   ]
  },
  {
   "cell_type": "markdown",
   "id": "aac5d689",
   "metadata": {},
   "source": [
    "### 응답 결과 TTL 추출 O"
   ]
  },
  {
   "cell_type": "code",
   "execution_count": 53,
   "id": "923afc98",
   "metadata": {},
   "outputs": [],
   "source": [
    "def _validate_basic_ttl_syntax(ttl_content):\n",
    "    \"\"\"\n",
    "    기본적인 TTL 문법 검증\n",
    "    \n",
    "    Args:\n",
    "        ttl_content: TTL 내용 문자열\n",
    "    \n",
    "    Returns:\n",
    "        bool: 기본 문법이 올바른지 여부\n",
    "    \"\"\"\n",
    "    try:\n",
    "        # 기본적인 TTL 요소들 확인\n",
    "        has_prefix = '@prefix' in ttl_content or '@base' in ttl_content\n",
    "        has_class = 'rdfs:Class' in ttl_content or 'owl:Class' in ttl_content\n",
    "        has_proper_ending = ttl_content.strip().endswith('.')\n",
    "        \n",
    "        # 괄호 균형 확인\n",
    "        open_brackets = ttl_content.count('[')\n",
    "        close_brackets = ttl_content.count(']')\n",
    "        bracket_balanced = open_brackets == close_brackets\n",
    "        \n",
    "        # 세미콜론과 마침표 확인\n",
    "        has_semicolons = ';' in ttl_content\n",
    "        has_periods = '.' in ttl_content\n",
    "        \n",
    "        validation_result = has_prefix and has_class and has_proper_ending and bracket_balanced\n",
    "        \n",
    "        if not validation_result:\n",
    "            print_status(\"기본 TTL 문법 검증 실패\", \"WARNING\")\n",
    "            print_status(f\"  - Prefix 선언: {has_prefix}\", \"INFO\")\n",
    "            print_status(f\"  - Class 선언: {has_class}\", \"INFO\")\n",
    "            print_status(f\"  - 올바른 종료: {has_proper_ending}\", \"INFO\")\n",
    "            print_status(f\"  - 괄호 균형: {bracket_balanced}\", \"INFO\")\n",
    "        \n",
    "        return validation_result\n",
    "        \n",
    "    except Exception as e:\n",
    "        print_status(f\"TTL 문법 검증 중 오류: {str(e)}\", \"ERROR\")\n",
    "        return False"
   ]
  },
  {
   "cell_type": "code",
   "execution_count": 54,
   "id": "9aeeb8c0",
   "metadata": {},
   "outputs": [],
   "source": [
    "import re\n",
    "\n",
    "def extract_ttl_from_response(message):\n",
    "    try:\n",
    "        if not getattr(message, \"data\", None):\n",
    "            print_status(\"응답 메세지 없음\", \"ERROR\")\n",
    "            return None, False\n",
    "\n",
    "        latest = message.data[0]\n",
    "        if not latest.content:\n",
    "            print_status(\"메세지 내용 없음\", \"ERROR\")\n",
    "            return None, False\n",
    "\n",
    "        message_text = \"\"\n",
    "        for item in latest.content:\n",
    "            if hasattr(item, \"text\") and item.text and hasattr(item.text, \"value\"):\n",
    "                message_text += item.text.value\n",
    "\n",
    "        if not message_text.strip():\n",
    "            print_status(\"텍스트 내용을 찾을 수 없습니다.\", \"ERROR\")\n",
    "            return None, False\n",
    "\n",
    "        ttl_patterns = [\n",
    "            r\"```ttl\\n(.*?)\\n```\",         # 1\n",
    "            r\"```turtle\\n(.*?)\\n```\",      # 2\n",
    "            r\"```\\n(.*?)\\n```\",            # 3\n",
    "            r\"```ttl\\s*\\n(.*?)\\n```\",      # 4\n",
    "            r\"```turtle\\s*\\n(.*?)\\n```\",   # 5\n",
    "        ]\n",
    "\n",
    "        PATTERN_EXPLANATIONS = {\n",
    "            1: \"```ttl 코드블록에서 추출됨\",\n",
    "            2: \"```turtle 코드블록에서 추출됨\",\n",
    "            3: \"라벨 없는 일반 ``` 코드블록에서 추출됨\",\n",
    "            4: \"공백 포함 ```ttl 코드블록에서 추출됨\",\n",
    "            5: \"공백 포함 ```turtle 코드블록에서 추출됨\",\n",
    "            0: \"코드블록 미탐지 → 전체 응답을 사용하여 추출됨(폴백)\",\n",
    "        }\n",
    "\n",
    "        ttl_content = None\n",
    "        matched_idx = 0\n",
    "\n",
    "        for i, pattern in enumerate(ttl_patterns, start=1):\n",
    "            match = re.search(pattern, message_text, re.DOTALL | re.IGNORECASE)\n",
    "            \n",
    "            if match:\n",
    "                ttl_content = match.group(1).strip()\n",
    "                matched_idx = i\n",
    "                break\n",
    "                \n",
    "        if not ttl_content:\n",
    "            matched_idx = 0\n",
    "            print_status(\"TTL 블록을 찾을 수 없습니다.\", \"ERROR\")\n",
    "        \n",
    "        if len(ttl_content.strip()) < 50 :\n",
    "            print_status(\"추출된 내용이 너무 짧습니다.\", \"ERROR\")\n",
    "\n",
    "        if not _validate_basic_ttl_syntax(ttl_content):\n",
    "            print_status(\"TTL 문법을 확인해보세요.\", \"WARNING\")\n",
    "\n",
    "\n",
    "        print_status(f\"TTL 추출 완료 (패턴 {matched_idx}) - {PATTERN_EXPLANATIONS[matched_idx]}\", \"SUCCESS\" if matched_idx else \"WARNING\")\n",
    "        return ttl_content, True\n",
    "\n",
    "    except Exception as e:\n",
    "        print_status(f\"TTL 추출 중 오류가 발생했습니다.: {e}\", \"ERROR\")\n"
   ]
  },
  {
   "cell_type": "code",
   "execution_count": null,
   "id": "dc419cb9",
   "metadata": {},
   "outputs": [
    {
     "name": "stdout",
     "output_type": "stream",
     "text": [
      "\u001b[92m[SUCCESS] TTL 추출 완료 (패턴 2) - ```turtle 코드블록에서 추출됨\u001b[0m\n"
     ]
    }
   ],
   "source": [
    "ontology_ttl_content = extract_ttl_from_response(ontology_message)\n",
    "\n",
    "# 위에서 튜플 형태로 출력되기 떄문에 str로 변환해야 정상적으로 ttl 파일이 저장됨\n",
    "# ('@prefix ex:     <http://example.org/disaster#> .\\n@prefix rdfs: \n",
    "# ->  @prefix ex:     <http://example.org/disaster#> .\n",
    "ontology_ttl_content_str = ontology_ttl_content[0]"
   ]
  },
  {
   "cell_type": "markdown",
   "id": "010d3778",
   "metadata": {},
   "source": [
    "### TTL 파일 생성 후 저장 O"
   ]
  },
  {
   "cell_type": "code",
   "execution_count": 74,
   "id": "6ec0d7e2",
   "metadata": {},
   "outputs": [],
   "source": [
    "def extract_filename(official_docs_path):\n",
    "    \"\"\"\n",
    "    공공기관 문서명 추출\n",
    "    \"\"\"\n",
    "    official_docs_name = os.path.basename(official_docs_path)\n",
    "    official_docs_name_without_ext = os.path.splitext(official_docs_name)[0]\n",
    "    return official_docs_name_without_ext\n"
   ]
  },
  {
   "cell_type": "code",
   "execution_count": 81,
   "id": "ac98034a",
   "metadata": {},
   "outputs": [],
   "source": [
    "from datetime import datetime\n",
    "\n",
    "def save_ttl_file(ttl_content, filename=None, output_dir=\"Ontology_Output\"):\n",
    "    try:\n",
    "        \n",
    "        # 저장할 디렉토리가 없을 경우 생성\n",
    "        if not os.path.exists(output_dir):\n",
    "            os.makedirs(output_dir)\n",
    "            print_status(f\"결과물을 저장할 폴더를 생성했습니다. : {output_dir}\", \"SUCCESS\")\n",
    "\n",
    "        # 파일명 설정\n",
    "        if filename:\n",
    "            timestamp = datetime.now().strftime(\"%Y%m%d_%H%M\")\n",
    "            filename = f\"{filename}_Class_{timestamp}.ttl\"\n",
    "\n",
    "        # 파일 확장자 확인\n",
    "        if not filename.endswith('.ttl'):\n",
    "            filename += '.ttl'\n",
    "\n",
    "        # 전체 파일 경로\n",
    "        file_path = os.path.join(output_dir, filename)\n",
    "\n",
    "        # 내용 검증\n",
    "        if not ttl_content or len(ttl_content.strip()) < 50:\n",
    "            return None, False, \"저장할 TTL 내용이 유효하지 않습니다.\"\n",
    "\n",
    "        with open(file_path, 'w', encoding='utf-8') as f:\n",
    "            # 내용 저장\n",
    "            f.write(ttl_content)\n",
    "\n",
    "            # footer\n",
    "            f.write(\"# End of TTL File\\n\")\n",
    "\n",
    "        file_size = os.path.getsize(file_path)\n",
    "        file_size_kb = file_size / 1024\n",
    "\n",
    "        print_status(\"TTL 파일 생성 완료\", \"SUCCESS\")\n",
    "        print_status(f\"{filename} 파일 경로: {file_path}\", \"INFO\")\n",
    "        print_status(f\"{filename} 파일 크기: {file_size_kb:.2f}KB\", \"INFO\")\n",
    "        print_status(f\"{filename} 내용 길이: {len(ttl_content)}자\", \"INFO\")\n",
    "\n",
    "\n",
    "    except Exception as e:\n",
    "        print_status(f\"TTL 파일 생성 실패: {e}\", \"ERROR\")\n",
    "        return None"
   ]
  },
  {
   "cell_type": "code",
   "execution_count": 77,
   "id": "808d6976",
   "metadata": {},
   "outputs": [
    {
     "name": "stdout",
     "output_type": "stream",
     "text": [
      "위기경보수준별조치사항\n"
     ]
    }
   ],
   "source": [
    "action_level_docs_name = extract_filename(actions_level_docs_path)\n",
    "print(action_level_docs_name)"
   ]
  },
  {
   "cell_type": "code",
   "execution_count": 82,
   "id": "808b1f41",
   "metadata": {},
   "outputs": [
    {
     "name": "stdout",
     "output_type": "stream",
     "text": [
      "\u001b[92m[SUCCESS] TTL 파일 생성 완료\u001b[0m\n",
      "\u001b[94m[INFO] 위기경보수준별조치사항_Class_20250905_1500.ttl 파일 경로: Ontology_Output\\위기경보수준별조치사항_Class_20250905_1500.ttl\u001b[0m\n",
      "\u001b[94m[INFO] 위기경보수준별조치사항_Class_20250905_1500.ttl 파일 크기: 11.62KB\u001b[0m\n",
      "\u001b[94m[INFO] 위기경보수준별조치사항_Class_20250905_1500.ttl 내용 길이: 7641자\u001b[0m\n"
     ]
    }
   ],
   "source": [
    "final_output = save_ttl_file(ontology_ttl_content_str, action_level_docs_name)"
   ]
  },
  {
   "cell_type": "code",
   "execution_count": null,
   "id": "8bfdd83e",
   "metadata": {},
   "outputs": [],
   "source": []
  }
 ],
 "metadata": {
  "kernelspec": {
   "display_name": "Python 3",
   "language": "python",
   "name": "python3"
  },
  "language_info": {
   "codemirror_mode": {
    "name": "ipython",
    "version": 3
   },
   "file_extension": ".py",
   "mimetype": "text/x-python",
   "name": "python",
   "nbconvert_exporter": "python",
   "pygments_lexer": "ipython3",
   "version": "3.11.9"
  }
 },
 "nbformat": 4,
 "nbformat_minor": 5
}
