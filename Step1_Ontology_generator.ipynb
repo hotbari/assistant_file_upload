{
 "cells": [
  {
   "cell_type": "code",
   "execution_count": null,
   "id": "b51e3880",
   "metadata": {},
   "outputs": [],
   "source": [
    "%pip install --upgrade openai"
   ]
  },
  {
   "cell_type": "markdown",
   "id": "8b800635",
   "metadata": {},
   "source": [
    "### Import Library"
   ]
  },
  {
   "cell_type": "code",
   "execution_count": null,
   "id": "df0f3f8e",
   "metadata": {},
   "outputs": [],
   "source": [
    "import os\n",
    "from openai import OpenAI\n",
    "from dotenv import load_dotenv"
   ]
  },
  {
   "cell_type": "code",
   "execution_count": null,
   "id": "2509675b",
   "metadata": {},
   "outputs": [],
   "source": [
    "load_dotenv()"
   ]
  },
  {
   "cell_type": "code",
   "execution_count": null,
   "id": "ab52067c",
   "metadata": {},
   "outputs": [],
   "source": [
    "\"\"\" 환경변수 설정 \"\"\"\n",
    "client = OpenAI(api_key=os.getenv('OPENAI_API_KEY'))\n",
    "assistant_id = os.getenv('ASSISTANT_ID')\n",
    "vector_store_id = os.getenv('VECTOR_STORE_ID')\n",
    "base_prompt = os.getenv('BASE_PROMPT')"
   ]
  },
  {
   "cell_type": "code",
   "execution_count": null,
   "id": "9f4630bc",
   "metadata": {},
   "outputs": [],
   "source": [
    "def print_status(message, status=\"INFO\"):\n",
    "    \"\"\" 터미널 메세지 커스텀(선택)\"\"\"\n",
    "    status_color = {\n",
    "        \"INFO\": \"\\033[94m\", # blue\n",
    "        \"SUCCESS\": \"\\033[92m\", # green\n",
    "        \"WARING\": \"\\033[93m\", # yellow\n",
    "        \"ERROR\": \"\\003[91m\", # red\n",
    "        \"RESET\": \"\\033[0m\" # reset\n",
    "    }\n",
    "\n",
    "    color = status_color.get(status, status_color[\"INFO\"])\n",
    "    reset = status_color[\"RESET\"]\n",
    "\n",
    "    print(f\"{color}[{status}] {message}{reset}\")"
   ]
  },
  {
   "cell_type": "markdown",
   "id": "9865bf53",
   "metadata": {},
   "source": [
    "### 환경변수 설정"
   ]
  },
  {
   "cell_type": "markdown",
   "id": "baae4904",
   "metadata": {},
   "source": [
    "### 파일 업로드 후 벡터 스토어에 추가 O"
   ]
  },
  {
   "cell_type": "code",
   "execution_count": null,
   "id": "78f0bf01",
   "metadata": {},
   "outputs": [],
   "source": [
    "def upload_file_to_vector_store(file_paths):\n",
    "    # 파일 업로드\n",
    "    uploaded_file_ids = []\n",
    "\n",
    "    for file_path in file_paths:\n",
    "        if os.path.exists(file_path):\n",
    "            try :\n",
    "                with open(file_path, 'rb') as f :\n",
    "                    uploaded_file = client.files.create(\n",
    "                        file=f,\n",
    "                        purpose='assistants'\n",
    "                    )\n",
    "\n",
    "                print_status(f\"파일 업로드 완료: {uploaded_file.id}\", \"SUCCESS\")\n",
    "\n",
    "\n",
    "                # 벡터 스토어에 추가\n",
    "                client.vector_stores.files.create(\n",
    "                    vector_store_id = vector_store_id,\n",
    "                    file_id = uploaded_file.id\n",
    "                )\n",
    "\n",
    "                print_status(f\"벡터 스토어에 추가 완료: {uploaded_file.id}\", \"SUCCESS\")\n",
    "                uploaded_file_ids.append(uploaded_file.id)\n",
    "\n",
    "\n",
    "            except Exception as e :\n",
    "                print_status(f\"파일을 찾을 수 없습니다: {file_path}\", \"ERROR\")\n",
    "                continue\n",
    "    #업로드된 파일 개수 확인\n",
    "    print_status(f\"총 {len(uploaded_file_ids)}개의 파일이 벡터 스토어에 업로드 되었습니다\", \"SUCCESS\")\n",
    "    return uploaded_file_ids\n",
    "\n",
    "    "
   ]
  },
  {
   "cell_type": "code",
   "execution_count": null,
   "id": "4162e931",
   "metadata": {},
   "outputs": [],
   "source": [
    "# 로컬에 있는 3장 pdf 파일과 목차 경로 정의\n",
    "from pathlib import Path\n",
    "\n",
    "chat3_index_docs_path = Path(r\"C:\\Users\\user\\Desktop\\Project\\Ontology\\Ontology_Root\\목차.txt\")\n",
    "actions_level_docs_path = Path(r\"C:\\Users\\user\\Desktop\\Project\\Ontology\\\\Ontology_Root\\위기경보수준별조치사항.pdf\")\n",
    "docs_path = [chat3_index_docs_path, actions_level_docs_path]\n",
    "\n",
    "uploaded_file_ids = upload_file_to_vector_store(docs_path)"
   ]
  },
  {
   "cell_type": "markdown",
   "id": "e1a67c2b",
   "metadata": {},
   "source": [
    "### 스레드 생성 및 메세지 추가 완료 O"
   ]
  },
  {
   "cell_type": "code",
   "execution_count": null,
   "id": "fa2b0dc9",
   "metadata": {},
   "outputs": [],
   "source": [
    "def create_thread(client=client):\n",
    "    thread = client.beta.threads.create()\n",
    "    print_status(f\"스레드 생성 완료: {thread.id}\", \"SUCCESS\")\n",
    "\n",
    "    thread_id = thread.id\n",
    "    return thread.id"
   ]
  },
  {
   "cell_type": "code",
   "execution_count": null,
   "id": "9e9893ff",
   "metadata": {},
   "outputs": [],
   "source": [
    "thread_id = create_thread()"
   ]
  },
  {
   "cell_type": "code",
   "execution_count": null,
   "id": "3d7e1668",
   "metadata": {},
   "outputs": [],
   "source": [
    "def add_message_to_thread(client, thread_id, prompt, uploaded_file_ids):\n",
    "    message_content = prompt + \"\\n\\n 첨부된 파일들을 분석하여 TTL 파일을 생성해주세요. 생성 후에는 첨부된 PDF 문서를 한 페이지씩 읽어서, subclass를 보완하여 추가해주세요. 이 때 기존의 요소들은 변경하지 않고 유지한 상태로 추가만 진행합니다.\"\n",
    "\n",
    "    thread_message = client.beta.threads.messages.create(\n",
    "        thread_id=thread_id,\\\n",
    "        role = \"user\",\n",
    "        content=message_content,\n",
    "        attachments=[\n",
    "            {\n",
    "                \"file_id\": file_id,\n",
    "                \"tools\": [{\"type\": \"file_search\"}]\n",
    "            }\n",
    "\n",
    "            for file_id in uploaded_file_ids\n",
    "        ]\n",
    "    )\n",
    "\n",
    "    print_status(f\"스레드 메세지 추가 완료\", \"SUCCESS\")\n",
    "    return thread_message.id"
   ]
  },
  {
   "cell_type": "code",
   "execution_count": null,
   "id": "d70636ac",
   "metadata": {},
   "outputs": [],
   "source": [
    "add_message_to_thread(client, thread_id, prompt, uploaded_file_ids)"
   ]
  },
  {
   "cell_type": "markdown",
   "id": "c6f54585",
   "metadata": {},
   "source": [
    "### Assistant 실행 O\n",
    "\n",
    "run_status.status == 'queued'        # 대기 중  \n",
    "run_status.status == 'in_progress'   # 실행 중  \n",
    "run_status.status == 'completed'     # 완료  \n",
    "run_status.status == 'failed'        # 실패  \n",
    "run_status.status == 'cancelled'     # 취소됨  \n",
    "run_status.status == 'expired'       # 만료됨  \n",
    "run_status.status == 'requires_action'  # 추가 액션 필요\n",
    "\n",
    "Assistatnt를 실행하면 추가 vector stores가 생성됨"
   ]
  },
  {
   "cell_type": "code",
   "execution_count": null,
   "id": "e1fd940d",
   "metadata": {},
   "outputs": [],
   "source": [
    "import time\n",
    "\n",
    "def run_assistant(client, thread_id, prompt):\n",
    "    run = client.beta.threads.runs.create(\n",
    "        thread_id=thread_id,\n",
    "        assistant_id=assistant_id,\n",
    "        instructions=prompt + \"\"\"\n",
    "        1. 먼저 목차를 기준으로 다른 문서들을 분석하여 OWL/RDF 표준에 맞는 TTL 파일을 생성해주세요. \n",
    "        TTL 파일은 Turtle 형식으로 작성하고, 적절한 네임스페이스와 클래스, 속성을 정의해주세요. \n",
    "        2. OWL/TTL 표준에 맞춰 한 번 더 아직 반영되지 않은 subclass를 추가 및 보완하세요. \n",
    "        추가할 subclass가 없다면 추가하지 않습니다. \n",
    "        먼저 생성된 모든 Class는 변경하지 말고 그대로 유지하며 \n",
    "        첨부된 페이지에 새롭게 드러나는 개념이 있다면 적절한 상위 Class 아래에 Subclass를 보완하세요. \n",
    "        3. 모든 변경 사항(Subclass 추가)은 OWL/TTL 문법에 맞춰 작성하세요. \n",
    "        4. 결과물은 한 번에 출력해주세요.\"\"\"\n",
    "    )\n",
    "\n",
    "    while True:\n",
    "        run_status = client.beta.threads.runs.retrieve(\n",
    "            thread_id=thread_id,\n",
    "            run_id=run.id\n",
    "        )\n",
    "\n",
    "        if run_status.status == 'completed':\n",
    "            print_status(\"Assistant 실행 완료\", \"SUCCESS\")\n",
    "            break\n",
    "        \n",
    "        elif run_status.status == 'failed':\n",
    "            print_status(\"Assistant 실행 실패\", \"ERROR\")\n",
    "\n",
    "        elif run_status.status == 'requires_action':\n",
    "            print_status(\"추가 액션 필요\", \"WARNING\")\n",
    "        \n",
    "        elif run_status.status == 'in_progress':\n",
    "            print_status(\"Assistant 실행 중...\", \"INFO\")\n",
    "\n",
    "            time.sleep(10)\n",
    "\n",
    "    message = client.beta.threads.messages.list(\n",
    "        thread_id=thread_id,\n",
    "        order=\"desc\"\n",
    "    )\n",
    "\n",
    "    return message"
   ]
  },
  {
   "cell_type": "markdown",
   "id": "f19eccad",
   "metadata": {},
   "source": [
    "-----------"
   ]
  },
  {
   "cell_type": "code",
   "execution_count": null,
   "id": "eeff51ab",
   "metadata": {},
   "outputs": [],
   "source": [
    "ontology_message = run_assistant(client, thread_id, prompt)"
   ]
  },
  {
   "cell_type": "code",
   "execution_count": null,
   "id": "7d331d5e",
   "metadata": {},
   "outputs": [],
   "source": [
    "print([str(ontology_message)][:10])"
   ]
  },
  {
   "cell_type": "markdown",
   "id": "aac5d689",
   "metadata": {},
   "source": [
    "### 응답 결과 TTL 추출 O"
   ]
  },
  {
   "cell_type": "code",
   "execution_count": null,
   "id": "923afc98",
   "metadata": {},
   "outputs": [],
   "source": [
    "def _validate_basic_ttl_syntax(ttl_content):\n",
    "    \"\"\"\n",
    "    기본적인 TTL 문법 검증\n",
    "    \n",
    "    Args:\n",
    "        ttl_content: TTL 내용 문자열\n",
    "    \n",
    "    Returns:\n",
    "        bool: 기본 문법이 올바른지 여부\n",
    "    \"\"\"\n",
    "    try:\n",
    "        # 기본적인 TTL 요소들 확인\n",
    "        has_prefix = '@prefix' in ttl_content or '@base' in ttl_content\n",
    "        has_class = 'rdfs:Class' in ttl_content or 'owl:Class' in ttl_content\n",
    "        has_proper_ending = ttl_content.strip().endswith('.')\n",
    "        \n",
    "        # 괄호 균형 확인\n",
    "        open_brackets = ttl_content.count('[')\n",
    "        close_brackets = ttl_content.count(']')\n",
    "        bracket_balanced = open_brackets == close_brackets\n",
    "        \n",
    "        # 세미콜론과 마침표 확인\n",
    "        has_semicolons = ';' in ttl_content\n",
    "        has_periods = '.' in ttl_content\n",
    "        \n",
    "        validation_result = has_prefix and has_class and has_proper_ending and bracket_balanced\n",
    "        \n",
    "        if not validation_result:\n",
    "            print_status(\"기본 TTL 문법 검증 실패\", \"WARNING\")\n",
    "            print_status(f\"  - Prefix 선언: {has_prefix}\", \"INFO\")\n",
    "            print_status(f\"  - Class 선언: {has_class}\", \"INFO\")\n",
    "            print_status(f\"  - 올바른 종료: {has_proper_ending}\", \"INFO\")\n",
    "            print_status(f\"  - 괄호 균형: {bracket_balanced}\", \"INFO\")\n",
    "        \n",
    "        return validation_result\n",
    "        \n",
    "    except Exception as e:\n",
    "        print_status(f\"TTL 문법 검증 중 오류: {str(e)}\", \"ERROR\")\n",
    "        return False"
   ]
  },
  {
   "cell_type": "code",
   "execution_count": null,
   "id": "9aeeb8c0",
   "metadata": {},
   "outputs": [],
   "source": [
    "import re\n",
    "\n",
    "def extract_ttl_from_response(message):\n",
    "    try:\n",
    "        if not getattr(message, \"data\", None):\n",
    "            print_status(\"응답 메세지 없음\", \"ERROR\")\n",
    "            return None, False\n",
    "\n",
    "        latest = message.data[0]\n",
    "        if not latest.content:\n",
    "            print_status(\"메세지 내용 없음\", \"ERROR\")\n",
    "            return None, False\n",
    "\n",
    "        message_text = \"\"\n",
    "        for item in latest.content:\n",
    "            if hasattr(item, \"text\") and item.text and hasattr(item.text, \"value\"):\n",
    "                message_text += item.text.value\n",
    "\n",
    "        if not message_text.strip():\n",
    "            print_status(\"텍스트 내용을 찾을 수 없습니다.\", \"ERROR\")\n",
    "            return None, False\n",
    "\n",
    "        ttl_patterns = [\n",
    "            r\"```ttl\\n(.*?)\\n```\",         # 1\n",
    "            r\"```turtle\\n(.*?)\\n```\",      # 2\n",
    "            r\"```\\n(.*?)\\n```\",            # 3\n",
    "            r\"```ttl\\s*\\n(.*?)\\n```\",      # 4\n",
    "            r\"```turtle\\s*\\n(.*?)\\n```\",   # 5\n",
    "        ]\n",
    "\n",
    "        PATTERN_EXPLANATIONS = {\n",
    "            1: \"```ttl 코드블록에서 추출됨\",\n",
    "            2: \"```turtle 코드블록에서 추출됨\",\n",
    "            3: \"라벨 없는 일반 ``` 코드블록에서 추출됨\",\n",
    "            4: \"공백 포함 ```ttl 코드블록에서 추출됨\",\n",
    "            5: \"공백 포함 ```turtle 코드블록에서 추출됨\",\n",
    "            0: \"코드블록 미탐지 → 전체 응답을 사용하여 추출됨(폴백)\",\n",
    "        }\n",
    "\n",
    "        ttl_content = None\n",
    "        matched_idx = 0\n",
    "\n",
    "        for i, pattern in enumerate(ttl_patterns, start=1):\n",
    "            match = re.search(pattern, message_text, re.DOTALL | re.IGNORECASE)\n",
    "            \n",
    "            if match:\n",
    "                ttl_content = match.group(1).strip()\n",
    "                matched_idx = i\n",
    "                break\n",
    "                \n",
    "        if not ttl_content:\n",
    "            matched_idx = 0\n",
    "            print_status(\"TTL 블록을 찾을 수 없습니다.\", \"ERROR\")\n",
    "        \n",
    "        if len(ttl_content.strip()) < 50 :\n",
    "            print_status(\"추출된 내용이 너무 짧습니다.\", \"ERROR\")\n",
    "\n",
    "        if not _validate_basic_ttl_syntax(ttl_content):\n",
    "            print_status(\"TTL 문법을 확인해보세요.\", \"WARNING\")\n",
    "\n",
    "\n",
    "        print_status(f\"TTL 추출 완료 (패턴 {matched_idx}) - {PATTERN_EXPLANATIONS[matched_idx]}\", \"SUCCESS\" if matched_idx else \"WARNING\")\n",
    "        return ttl_content, True\n",
    "\n",
    "    except Exception as e:\n",
    "        print_status(f\"TTL 추출 중 오류가 발생했습니다.: {e}\", \"ERROR\")\n"
   ]
  },
  {
   "cell_type": "code",
   "execution_count": null,
   "id": "dc419cb9",
   "metadata": {},
   "outputs": [],
   "source": [
    "ontology_ttl_content = extract_ttl_from_response(ontology_message)\n",
    "\n",
    "# 위에서 튜플 형태로 출력되기 떄문에 str로 변환해야 정상적으로 ttl 파일이 저장됨\n",
    "# ('@prefix ex:     <http://example.org/disaster#> .\\n@prefix rdfs: \n",
    "# ->  @prefix ex:     <http://example.org/disaster#> .\n",
    "ontology_ttl_content_str = ontology_ttl_content[0]"
   ]
  },
  {
   "cell_type": "markdown",
   "id": "010d3778",
   "metadata": {},
   "source": [
    "### TTL 파일 생성 후 저장 O"
   ]
  },
  {
   "cell_type": "code",
   "execution_count": null,
   "id": "6ec0d7e2",
   "metadata": {},
   "outputs": [],
   "source": [
    "def extract_filename(official_docs_path):\n",
    "    \"\"\"\n",
    "    공공기관 문서명 추출\n",
    "    \"\"\"\n",
    "    official_docs_name = os.path.basename(official_docs_path)\n",
    "    official_docs_name_without_ext = os.path.splitext(official_docs_name)[0]\n",
    "    return official_docs_name_without_ext\n"
   ]
  },
  {
   "cell_type": "code",
   "execution_count": null,
   "id": "ac98034a",
   "metadata": {},
   "outputs": [],
   "source": [
    "from datetime import datetime\n",
    "\n",
    "def save_ttl_file(ttl_content, filename=None, output_dir=\"Ontology_Output\"):\n",
    "    try:\n",
    "        \n",
    "        # 저장할 디렉토리가 없을 경우 생성\n",
    "        if not os.path.exists(output_dir):\n",
    "            os.makedirs(output_dir)\n",
    "            print_status(f\"결과물을 저장할 폴더를 생성했습니다. : {output_dir}\", \"SUCCESS\")\n",
    "\n",
    "        # 파일명 설정\n",
    "        if filename:\n",
    "            timestamp = datetime.now().strftime(\"%Y%m%d_%H%M\")\n",
    "            filename = f\"{filename}_Class_{timestamp}.ttl\"\n",
    "\n",
    "        # 파일 확장자 확인\n",
    "        if not filename.endswith('.ttl'):\n",
    "            filename += '.ttl'\n",
    "\n",
    "        # 전체 파일 경로\n",
    "        file_path = os.path.join(output_dir, filename)\n",
    "\n",
    "        # 내용 검증\n",
    "        if not ttl_content or len(ttl_content.strip()) < 50:\n",
    "            return None, False, \"저장할 TTL 내용이 유효하지 않습니다.\"\n",
    "\n",
    "        with open(file_path, 'w', encoding='utf-8') as f:\n",
    "            # 내용 저장\n",
    "            f.write(ttl_content)\n",
    "\n",
    "            # footer\n",
    "            f.write(\"# End of TTL File\\n\")\n",
    "\n",
    "        file_size = os.path.getsize(file_path)\n",
    "        file_size_kb = file_size / 1024\n",
    "\n",
    "        print_status(\"TTL 파일 생성 완료\", \"SUCCESS\")\n",
    "        print_status(f\"{filename} 파일 경로: {file_path}\", \"INFO\")\n",
    "        print_status(f\"{filename} 파일 크기: {file_size_kb:.2f}KB\", \"INFO\")\n",
    "        print_status(f\"{filename} 내용 길이: {len(ttl_content)}자\", \"INFO\")\n",
    "\n",
    "\n",
    "    except Exception as e:\n",
    "        print_status(f\"TTL 파일 생성 실패: {e}\", \"ERROR\")\n",
    "        return None"
   ]
  },
  {
   "cell_type": "code",
   "execution_count": null,
   "id": "808d6976",
   "metadata": {},
   "outputs": [],
   "source": [
    "action_level_docs_name = extract_filename(actions_level_docs_path)\n",
    "print(action_level_docs_name)"
   ]
  },
  {
   "cell_type": "code",
   "execution_count": null,
   "id": "808b1f41",
   "metadata": {},
   "outputs": [],
   "source": [
    "final_output = save_ttl_file(ontology_ttl_content_str, action_level_docs_name)"
   ]
  },
  {
   "cell_type": "code",
   "execution_count": null,
   "id": "8bfdd83e",
   "metadata": {},
   "outputs": [],
   "source": []
  }
 ],
 "metadata": {
  "kernelspec": {
   "display_name": "Python 3",
   "language": "python",
   "name": "python3"
  },
  "language_info": {
   "codemirror_mode": {
    "name": "ipython",
    "version": 3
   },
   "file_extension": ".py",
   "mimetype": "text/x-python",
   "name": "python",
   "nbconvert_exporter": "python",
   "pygments_lexer": "ipython3",
   "version": "3.11.9"
  }
 },
 "nbformat": 4,
 "nbformat_minor": 5
}
