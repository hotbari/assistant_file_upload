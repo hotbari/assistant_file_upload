{
 "cells": [
  {
   "cell_type": "code",
   "execution_count": null,
   "id": "b51e3880",
   "metadata": {},
   "outputs": [],
   "source": [
    "# %pip install --upgrade openai"
   ]
  },
  {
   "cell_type": "markdown",
   "id": "0d1636e8",
   "metadata": {},
   "source": [
    "# ** Step 1 ** "
   ]
  },
  {
   "cell_type": "markdown",
   "id": "8b800635",
   "metadata": {},
   "source": [
    "### Import Library"
   ]
  },
  {
   "cell_type": "code",
   "execution_count": 35,
   "id": "df0f3f8e",
   "metadata": {},
   "outputs": [],
   "source": [
    "import os\n",
    "from openai import OpenAI\n",
    "from dotenv import load_dotenv"
   ]
  },
  {
   "cell_type": "code",
   "execution_count": 47,
   "id": "2509675b",
   "metadata": {},
   "outputs": [
    {
     "name": "stderr",
     "output_type": "stream",
     "text": [
      "python-dotenv could not parse statement starting at line 4\n",
      "python-dotenv could not parse statement starting at line 23\n",
      "python-dotenv could not parse statement starting at line 24\n",
      "python-dotenv could not parse statement starting at line 26\n",
      "python-dotenv could not parse statement starting at line 27\n",
      "python-dotenv could not parse statement starting at line 28\n",
      "python-dotenv could not parse statement starting at line 29\n",
      "python-dotenv could not parse statement starting at line 31\n",
      "python-dotenv could not parse statement starting at line 32\n",
      "python-dotenv could not parse statement starting at line 33\n",
      "python-dotenv could not parse statement starting at line 34\n",
      "python-dotenv could not parse statement starting at line 35\n",
      "python-dotenv could not parse statement starting at line 36\n",
      "python-dotenv could not parse statement starting at line 37\n",
      "python-dotenv could not parse statement starting at line 39\n",
      "python-dotenv could not parse statement starting at line 40\n",
      "python-dotenv could not parse statement starting at line 41\n",
      "python-dotenv could not parse statement starting at line 42\n",
      "python-dotenv could not parse statement starting at line 43\n",
      "python-dotenv could not parse statement starting at line 44\n",
      "python-dotenv could not parse statement starting at line 45\n",
      "python-dotenv could not parse statement starting at line 46\n",
      "python-dotenv could not parse statement starting at line 48\n",
      "python-dotenv could not parse statement starting at line 49\n",
      "python-dotenv could not parse statement starting at line 50\n",
      "python-dotenv could not parse statement starting at line 51\n",
      "python-dotenv could not parse statement starting at line 52\n",
      "python-dotenv could not parse statement starting at line 53\n",
      "python-dotenv could not parse statement starting at line 55\n",
      "python-dotenv could not parse statement starting at line 56\n",
      "python-dotenv could not parse statement starting at line 57\n",
      "python-dotenv could not parse statement starting at line 58\n",
      "python-dotenv could not parse statement starting at line 61\n",
      "python-dotenv could not parse statement starting at line 62\n",
      "python-dotenv could not parse statement starting at line 63\n",
      "python-dotenv could not parse statement starting at line 66\n",
      "python-dotenv could not parse statement starting at line 67\n",
      "python-dotenv could not parse statement starting at line 68\n",
      "python-dotenv could not parse statement starting at line 69\n",
      "python-dotenv could not parse statement starting at line 70\n",
      "python-dotenv could not parse statement starting at line 72\n",
      "python-dotenv could not parse statement starting at line 74\n",
      "python-dotenv could not parse statement starting at line 75\n",
      "python-dotenv could not parse statement starting at line 76\n",
      "python-dotenv could not parse statement starting at line 77\n",
      "python-dotenv could not parse statement starting at line 78\n",
      "python-dotenv could not parse statement starting at line 79\n",
      "python-dotenv could not parse statement starting at line 80\n",
      "python-dotenv could not parse statement starting at line 82\n",
      "python-dotenv could not parse statement starting at line 83\n",
      "python-dotenv could not parse statement starting at line 84\n",
      "python-dotenv could not parse statement starting at line 85\n",
      "python-dotenv could not parse statement starting at line 86\n",
      "python-dotenv could not parse statement starting at line 87\n",
      "python-dotenv could not parse statement starting at line 88\n",
      "python-dotenv could not parse statement starting at line 90\n",
      "python-dotenv could not parse statement starting at line 91\n",
      "python-dotenv could not parse statement starting at line 92\n",
      "python-dotenv could not parse statement starting at line 93\n",
      "python-dotenv could not parse statement starting at line 101\n",
      "python-dotenv could not parse statement starting at line 102\n",
      "python-dotenv could not parse statement starting at line 103\n",
      "python-dotenv could not parse statement starting at line 104\n",
      "python-dotenv could not parse statement starting at line 105\n",
      "python-dotenv could not parse statement starting at line 110\n",
      "python-dotenv could not parse statement starting at line 112\n",
      "python-dotenv could not parse statement starting at line 113\n",
      "python-dotenv could not parse statement starting at line 114\n",
      "python-dotenv could not parse statement starting at line 116\n",
      "python-dotenv could not parse statement starting at line 117\n",
      "python-dotenv could not parse statement starting at line 119\n",
      "python-dotenv could not parse statement starting at line 120\n",
      "python-dotenv could not parse statement starting at line 121\n",
      "python-dotenv could not parse statement starting at line 122\n",
      "python-dotenv could not parse statement starting at line 123\n",
      "python-dotenv could not parse statement starting at line 125\n",
      "python-dotenv could not parse statement starting at line 126\n",
      "python-dotenv could not parse statement starting at line 127\n",
      "python-dotenv could not parse statement starting at line 129\n",
      "python-dotenv could not parse statement starting at line 130\n",
      "python-dotenv could not parse statement starting at line 131\n",
      "python-dotenv could not parse statement starting at line 140\n",
      "python-dotenv could not parse statement starting at line 141\n",
      "python-dotenv could not parse statement starting at line 142\n",
      "python-dotenv could not parse statement starting at line 143\n",
      "python-dotenv could not parse statement starting at line 144\n",
      "python-dotenv could not parse statement starting at line 147\n",
      "python-dotenv could not parse statement starting at line 148\n",
      "python-dotenv could not parse statement starting at line 149\n",
      "python-dotenv could not parse statement starting at line 150\n",
      "python-dotenv could not parse statement starting at line 151\n"
     ]
    },
    {
     "data": {
      "text/plain": [
       "True"
      ]
     },
     "execution_count": 47,
     "metadata": {},
     "output_type": "execute_result"
    }
   ],
   "source": [
    "load_dotenv()"
   ]
  },
  {
   "cell_type": "code",
   "execution_count": 48,
   "id": "4eb843c0",
   "metadata": {},
   "outputs": [
    {
     "name": "stdout",
     "output_type": "stream",
     "text": [
      "None\n"
     ]
    }
   ],
   "source": [
    "addendum_page_json_promt = os.getenv(\"ADDENDUM_PAGE_JSON\")\n",
    "print(addendum_page_json_promt)"
   ]
  },
  {
   "cell_type": "markdown",
   "id": "9865bf53",
   "metadata": {},
   "source": [
    "### 환경변수 설정"
   ]
  },
  {
   "cell_type": "code",
   "execution_count": 37,
   "id": "ab52067c",
   "metadata": {},
   "outputs": [],
   "source": [
    "\"\"\" 환경변수 설정 \"\"\"\n",
    "client = OpenAI(api_key=os.getenv('OPENAI_API_KEY'))\n",
    "assistant_id = os.getenv('ASSISTANT_ID')\n",
    "vector_store_id = os.getenv('VECTOR_STORE_ID')\n",
    "base_prompt = os.getenv('BASE_PROMPT')"
   ]
  },
  {
   "cell_type": "code",
   "execution_count": 23,
   "id": "9f4630bc",
   "metadata": {},
   "outputs": [],
   "source": [
    "def print_status(message, status=\"INFO\"):\n",
    "    \"\"\" 터미널 메세지 커스텀(선택)\"\"\"\n",
    "    status_color = {\n",
    "        \"INFO\": \"\\033[94m\", # blue\n",
    "        \"SUCCESS\": \"\\033[92m\", # green\n",
    "        \"WARING\": \"\\033[93m\", # yellow\n",
    "        \"ERROR\": \"\\003[91m\", # red\n",
    "        \"RESET\": \"\\033[0m\" # reset\n",
    "    }\n",
    "\n",
    "    color = status_color.get(status, status_color[\"INFO\"])\n",
    "    reset = status_color[\"RESET\"]\n",
    "\n",
    "    print(f\"{color}[{status}] {message}{reset}\")"
   ]
  },
  {
   "cell_type": "markdown",
   "id": "baae4904",
   "metadata": {},
   "source": [
    "### 파일 업로드 후 벡터 스토어에 추가 O"
   ]
  },
  {
   "cell_type": "code",
   "execution_count": 24,
   "id": "78f0bf01",
   "metadata": {},
   "outputs": [
    {
     "name": "stdout",
     "output_type": "stream",
     "text": [
      "\u001b[92m[SUCCESS] 파일 업로드 완료: file-A7RaBghofZ7vGvkUgkDkbb\u001b[0m\n",
      "\u001b[92m[SUCCESS] 벡터 스토어에 추가 완료: file-A7RaBghofZ7vGvkUgkDkbb\u001b[0m\n",
      "\u001b[92m[SUCCESS] 파일 업로드 완료: file-9A1F1xMtoSbMob12yYDoGU\u001b[0m\n",
      "\u001b[92m[SUCCESS] 벡터 스토어에 추가 완료: file-9A1F1xMtoSbMob12yYDoGU\u001b[0m\n",
      "\u001b[92m[SUCCESS] 총 2개의 파일이 벡터 스토어에 업로드 되었습니다\u001b[0m\n"
     ]
    }
   ],
   "source": [
    "def upload_file_to_vector_store(file_paths):\n",
    "    # 파일 업로드\n",
    "    uploaded_file_ids = []\n",
    "\n",
    "    for file_path in file_paths:\n",
    "        if os.path.exists(file_path):\n",
    "            try :\n",
    "                with open(file_path, 'rb') as f :\n",
    "                    uploaded_file = client.files.create(\n",
    "                        file=f,\n",
    "                        purpose='assistants'\n",
    "                    )\n",
    "\n",
    "                print_status(f\"파일 업로드 완료: {uploaded_file.id}\", \"SUCCESS\")\n",
    "\n",
    "\n",
    "                # 벡터 스토어에 추가\n",
    "                client.vector_stores.files.create(\n",
    "                    vector_store_id = vector_store_id,\n",
    "                    file_id = uploaded_file.id\n",
    "                )\n",
    "\n",
    "                print_status(f\"벡터 스토어에 추가 완료: {uploaded_file.id}\", \"SUCCESS\")\n",
    "                uploaded_file_ids.append(uploaded_file.id)\n",
    "\n",
    "\n",
    "            except Exception as e :\n",
    "                print_status(f\"파일을 찾을 수 없습니다: {file_path}\", \"ERROR\")\n",
    "                continue\n",
    "    #업로드된 파일 개수 확인\n",
    "    print_status(f\"총 {len(uploaded_file_ids)}개의 파일이 벡터 스토어에 업로드 되었습니다\", \"SUCCESS\")\n",
    "    return uploaded_file_ids\n",
    "\n",
    "\n",
    "# 로컬에 있는 3장 pdf 파일과 목차 경로 정의\n",
    "from pathlib import Path\n",
    "\n",
    "chat3_index_docs_path = Path(r\"C:\\Users\\user\\Desktop\\Project\\Ontology\\Ontology_Root\\목차.txt\")\n",
    "actions_level_docs_path = Path(r\"C:\\Users\\user\\Desktop\\Project\\Ontology\\\\Ontology_Root\\위기경보수준별조치사항.pdf\")\n",
    "docs_path = [chat3_index_docs_path, actions_level_docs_path]\n",
    "\n",
    "uploaded_file_ids = upload_file_to_vector_store(docs_path)"
   ]
  },
  {
   "cell_type": "markdown",
   "id": "e1a67c2b",
   "metadata": {},
   "source": [
    "### 스레드 생성 및 메세지 추가 완료 O"
   ]
  },
  {
   "cell_type": "code",
   "execution_count": 25,
   "id": "fa2b0dc9",
   "metadata": {},
   "outputs": [
    {
     "name": "stderr",
     "output_type": "stream",
     "text": [
      "C:\\Users\\user\\AppData\\Local\\Temp\\ipykernel_55848\\103296605.py:2: DeprecationWarning: The Assistants API is deprecated in favor of the Responses API\n",
      "  thread = client.beta.threads.create()\n"
     ]
    },
    {
     "name": "stdout",
     "output_type": "stream",
     "text": [
      "\u001b[92m[SUCCESS] 스레드 생성 완료: thread_rU6ONx5oWZy8k6HsHdIeMRqh\u001b[0m\n"
     ]
    }
   ],
   "source": [
    "def create_thread(client=client):\n",
    "    thread = client.beta.threads.create()\n",
    "    print_status(f\"스레드 생성 완료: {thread.id}\", \"SUCCESS\")\n",
    "\n",
    "    thread_id = thread.id\n",
    "    return thread.id\n",
    "\n",
    "thread_id = create_thread()"
   ]
  },
  {
   "cell_type": "code",
   "execution_count": 26,
   "id": "3d7e1668",
   "metadata": {},
   "outputs": [
    {
     "name": "stderr",
     "output_type": "stream",
     "text": [
      "C:\\Users\\user\\AppData\\Local\\Temp\\ipykernel_55848\\3398931413.py:4: DeprecationWarning: The Assistants API is deprecated in favor of the Responses API\n",
      "  thread_message = client.beta.threads.messages.create(\n"
     ]
    },
    {
     "name": "stdout",
     "output_type": "stream",
     "text": [
      "\u001b[92m[SUCCESS] 스레드 메세지 추가 완료\u001b[0m\n"
     ]
    },
    {
     "data": {
      "text/plain": [
       "'msg_PqUMRn1ocJ6NAuQXP7Fk6RHQ'"
      ]
     },
     "execution_count": 26,
     "metadata": {},
     "output_type": "execute_result"
    }
   ],
   "source": [
    "def add_message_to_thread(client, thread_id, base_prompt, uploaded_file_ids):\n",
    "    message_content = base_prompt + \"\\n\\n 첨부된 파일들을 분석하여 TTL 파일을 생성해주세요. 생성 후에는 첨부된 PDF 문서를 한 페이지씩 읽어서, subclass를 보완하여 추가해주세요. 이 때 기존의 요소들은 변경하지 않고 유지한 상태로 추가만 진행합니다.\"\n",
    "\n",
    "    thread_message = client.beta.threads.messages.create(\n",
    "        thread_id=thread_id,\\\n",
    "        role = \"user\",\n",
    "        content=message_content,\n",
    "        attachments=[\n",
    "            {\n",
    "                \"file_id\": file_id,\n",
    "                \"tools\": [{\"type\": \"file_search\"}]\n",
    "            }\n",
    "\n",
    "            for file_id in uploaded_file_ids\n",
    "        ]\n",
    "    )\n",
    "\n",
    "    print_status(f\"스레드 메세지 추가 완료\", \"SUCCESS\")\n",
    "    return thread_message.id\n",
    "\n",
    "add_message_to_thread(client, thread_id, base_prompt, uploaded_file_ids)"
   ]
  },
  {
   "cell_type": "markdown",
   "id": "c6f54585",
   "metadata": {},
   "source": [
    "### Assistant 실행 O\n",
    "\n",
    "run_status.status == 'queued'        # 대기 중  \n",
    "run_status.status == 'in_progress'   # 실행 중  \n",
    "run_status.status == 'completed'     # 완료  \n",
    "run_status.status == 'failed'        # 실패  \n",
    "run_status.status == 'cancelled'     # 취소됨  \n",
    "run_status.status == 'expired'       # 만료됨  \n",
    "run_status.status == 'requires_action'  # 추가 액션 필요\n",
    "\n",
    "Assistatnt를 실행하면 추가 vector stores가 생성됨"
   ]
  },
  {
   "cell_type": "code",
   "execution_count": 27,
   "id": "e1fd940d",
   "metadata": {},
   "outputs": [
    {
     "name": "stderr",
     "output_type": "stream",
     "text": [
      "C:\\Users\\user\\AppData\\Local\\Temp\\ipykernel_55848\\1574251843.py:4: DeprecationWarning: The Assistants API is deprecated in favor of the Responses API\n",
      "  run = client.beta.threads.runs.create(\n",
      "C:\\Users\\user\\AppData\\Local\\Temp\\ipykernel_55848\\1574251843.py:22: DeprecationWarning: The Assistants API is deprecated in favor of the Responses API\n",
      "  run_status = client.beta.threads.runs.retrieve(\n"
     ]
    },
    {
     "name": "stdout",
     "output_type": "stream",
     "text": [
      "\u001b[94m[INFO] Assistant 실행 중...\u001b[0m\n",
      "\u001b[94m[INFO] Assistant 실행 중...\u001b[0m\n",
      "\u001b[94m[INFO] Assistant 실행 중...\u001b[0m\n",
      "\u001b[92m[SUCCESS] Assistant 실행 완료\u001b[0m\n"
     ]
    },
    {
     "name": "stderr",
     "output_type": "stream",
     "text": [
      "C:\\Users\\user\\AppData\\Local\\Temp\\ipykernel_55848\\1574251843.py:42: DeprecationWarning: The Assistants API is deprecated in favor of the Responses API\n",
      "  message = client.beta.threads.messages.list(\n"
     ]
    },
    {
     "name": "stdout",
     "output_type": "stream",
     "text": [
      "['SyncCursorPage[Message](data=[Message(id=\\'msg_SaJLLduHB93VZmPNBJpoAepC\\', assistant_id=\\'asst_W7kaWMqWblyhhVj1rCP0mVow\\', attachments=[], completed_at=None, content=[TextContentBlock(text=Text(annotations=[], value=\\'아래는 첨부된 목차와 PDF 문서의 내용을 토대로 작성한 OWL/RDF Turtle (.ttl) 파일의 초안입니다. \\\\n\\\\n- 클래스 생성 순서, 네이밍 규칙, 계층구조는 목차의 순서 및 명칭을 따랐으며,\\\\n- 동일 패턴으로 모든 클래스를 생성하였고,\\\\n- PDF 문서에서 확인된 상세 조치, 역할, 상황 등의 subclass, 속성을 추후 페이지별 추가 보완 가능합니다.\\\\n\\\\n---\\\\n\\\\n```turtle\\\\n@prefix : <http://example.org/ontology#> .\\\\n@prefix owl: <http://www.w3.org/2002/07/owl#> .\\\\n@prefix rdf: <http://www.w3.org/1999/02/22-rdf-syntax-ns#> .\\\\n@prefix rdfs: <http://www.w3.org/2000/01/rdf-schema#> .\\\\n@prefix xsd: <http://www.w3.org/2001/XMLSchema#> .\\\\n\\\\n:위기경보수준별조치사항 a owl:Ontology .\\\\n\\\\n# 최상위 클래스 - 위기경보수준별조치사항\\\\n:위기경보수준별조치사항 a owl:Class ;\\\\n    rdfs:label \"위기경보수준별조치사항\"@ko ;\\\\n    rdfs:comment \"위기경보 수준에 따른 조치사항 클래스 최상위\"@ko .\\\\n\\\\n# 하위 클래스 - 1. 관심, 2. 주의, 3. 경계, 4. 심각\\\\n:관심 a owl:Class ;\\\\n    rdfs:label \"관심\"@ko ;\\\\n    rdfs:subClassOf :위기경보수준별조치사항 .\\\\n\\\\n:주의 a owl:Class ;\\\\n    rdfs:label \"주의\"@ko ;\\\\n    rdfs:subClassOf :위기경보수준별조치사항 .\\\\n\\\\n:경계 a owl:Class ;\\\\n    rdfs:label \"경계\"@ko ;\\\\n    rdfs:subClassOf :위기경보수준별조치사항 .\\\\n\\\\n:심각 a owl:Class ;\\\\n    rdfs:label \"심각\"@ko ;\\\\n    rdfs:subClassOf :위기경보수준별조치사항 .\\\\n\\\\n# 관심의 하위항목 : 가. 상황, 나. 조치목록및내용, 다. 부서별임무와역할\\\\n:관심_상황 a owl:Class ;\\\\n    rdfs:label \"관심_상황\"@ko ;\\\\n    rdfs:subClassOf :관심 .\\\\n\\\\n:관심_조치목록 a owl:Class ;\\\\n    rdfs:label \"관심_조치목록\"@ko ;\\\\n    rdfs:subClassOf :관심 .\\\\n\\\\n:관심_조치내용 a owl:Class ;\\\\n    rdfs:label \"관심_조치내용\"@ko ;\\\\n    rdfs:subClassOf :관심_조치목록 .\\\\n\\\\n:관심_조치내용_경보접수 a owl:Class ;\\\\n    rdfs:label \"관심_조치내용_경보접수\"@ko ;\\\\n    rdfs:subClassOf :관심_조치내용 .\\\\n\\\\n:관심_조치내용_보고및전파 a owl:Class ;\\\\n    rdfs:label \"관심_조치내용_보고및전파\"@ko ;\\\\n    rdfs:subClassOf :관심_조치내용 .\\\\n\\\\n:관심_조치내용_조치 a owl:Class ;\\\\n    rdfs:label \"관심_조치내용_조치\"@ko ;\\\\n    rdfs:subClassOf :관심_조치내용 .\\\\n\\\\n:관심_부서별임무와역할 a owl:Class ;\\\\n    rdfs:label \"관심_부서별임무와역할\"@ko ;\\\\n    rdfs:subClassOf :관심 .\\\\n\\\\n\\\\n# 주의의 하위항목\\\\n:주의_상황 a owl:Class ;\\\\n    rdfs:label \"주의_상황\"@ko ;\\\\n    rdfs:subClassOf :주의 .\\\\n\\\\n:주의_조치목록 a owl:Class ;\\\\n    rdfs:label \"주의_조치목록\"@ko ;\\\\n    rdfs:subClassOf :주의 .\\\\n\\\\n:주의_조치내용 a owl:Class ;\\\\n    rdfs:label \"주의_조치내용\"@ko ;\\\\n    rdfs:subClassOf :주의_조치목록 .\\\\n\\\\n:주의_조치내용_경보및상황접수 a owl:Class ;\\\\n    rdfs:label \"주의_조치내용_경보및상황접수\"@ko ;\\\\n    rdfs:subClassOf :주의_조치내용 .\\\\n\\\\n:주의_조치내용_보고및전파 a owl:Class ;\\\\n    rdfs:label \"주의_조치내용_보고및전파\"@ko ;\\\\n    rdfs:subClassOf :주의_조치내용 .\\\\n\\\\n:주의_조치내용_조치 a owl:Class ;\\\\n    rdfs:label \"주의_조치내용_조치\"@ko ;\\\\n    rdfs:subClassOf :주의_조치내용 .\\\\n\\\\n:주의_부서별임무와역할 a owl:Class ;\\\\n    rdfs:label \"주의_부서별임무와역할\"@ko ;\\\\n    rdfs:subClassOf :주의 .\\\\n\\\\n\\\\n# 경계의 하위항목\\\\n:경계_상황 a owl:Class ;\\\\n    rdfs:label \"경계_상황\"@ko ;\\\\n    rdfs:subClassOf :경계 .\\\\n\\\\n:경계_조치목록 a owl:Class ;\\\\n    rdfs:label \"경계_조치목록\"@ko ;\\\\n    rdfs:subClassOf :경계 .\\\\n\\\\n:경계_조치내용 a owl:Class ;\\\\n    rdfs:label \"경계_조치내용\"@ko ;\\\\n    rdfs:subClassOf :경계_조치목록 .\\\\n\\\\n:경계_조치내용_경보및상황접수 a owl:Class ;\\\\n    rdfs:label \"경계_조치내용_경보및상황접수\"@ko ;\\\\n    rdfs:subClassOf :경계_조치내용 .\\\\n\\\\n:경계_조치내용_보고및전파 a owl:Class ;\\\\n    rdfs:label \"경계_조치내용_보고및전파\"@ko ;\\\\n    rdfs:subClassOf :경계_조치내용 .\\\\n\\\\n:경계_조치내용_조치 a owl:Class ;\\\\n    rdfs:label \"경계_조치내용_조치\"@ko ;\\\\n    rdfs:subClassOf :경계_조치내용 .\\\\n\\\\n:경계_부서별임무와역할 a owl:Class ;\\\\n    rdfs:label \"경계_부서별임무와역할\"@ko ;\\\\n    rdfs:subClassOf :경계 .\\\\n\\\\n\\\\n# 심각의 하위항목\\\\n:심각_상황 a owl:Class ;\\\\n    rdfs:label \"심각_상황\"@ko ;\\\\n    rdfs:subClassOf :심각 .\\\\n\\\\n:심각_조치목록 a owl:Class ;\\\\n    rdfs:label \"심각_조치목록\"@ko ;\\\\n    rdfs:subClassOf :심각 .\\\\n\\\\n:심각_조치내용 a owl:Class ;\\\\n    rdfs:label \"심각_조치내용\"@ko ;\\\\n    rdfs:subClassOf :심각_조치목록 .\\\\n\\\\n:심각_조치내용_경보및상황접수 a owl:Class ;\\\\n    rdfs:label \"심각_조치내용_경보및상황접수\"@ko ;\\\\n    rdfs:subClassOf :심각_조치내용 .\\\\n\\\\n:심각_조치내용_보고및전파 a owl:Class ;\\\\n    rdfs:label \"심각_조치내용_보고및전파\"@ko ;\\\\n    rdfs:subClassOf :심각_조치내용 .\\\\n\\\\n:심각_조치내용_조치 a owl:Class ;\\\\n    rdfs:label \"심각_조치내용_조치\"@ko ;\\\\n    rdfs:subClassOf :심각_조치내용 .\\\\n\\\\n:심각_부서별임무와역할 a owl:Class ;\\\\n    rdfs:label \"심각_부서별임무와역할\"@ko ;\\\\n    rdfs:subClassOf :심각 .\\\\n\\\\n\\\\n# 주요 속성 예시 - 조치 접수 시간, 경보 발령 기관, 보고자 등 (모든 단계 공통)\\\\n:접수시간 a owl:DatatypeProperty ;\\\\n    rdfs:label \"접수시간\"@ko ;\\\\n    rdfs:domain [ a owl:Class ] ; # 적용할 클래스를 필요시 추가할 것\\\\n    rdfs:range xsd:dateTime .\\\\n\\\\n:경보발령기관 a owl:DatatypeProperty ;\\\\n    rdfs:label \"경보발령기관\"@ko ;\\\\n    rdfs:domain [ a owl:Class ] ;\\\\n    rdfs:range xsd:string .\\\\n\\\\n:보고자 a owl:ObjectProperty ;\\\\n    rdfs:label \"보고자\"@ko ;\\\\n    rdfs:domain [ a owl:Class ] ;\\\\n    rdfs:range xsd:string . # 추후 Person 클래스로 확장가능\\\\n\\\\n:부서명 a owl:DatatypeProperty ;\\\\n    rdfs:label \"부서명\"@ko ;\\\\n    rdfs:domain [ a owl:Class ] ;\\\\n    rdfs:range xsd:string .\\\\n\\\\n# 필요시 추가 속성 및 관계는 PDF내용 보완 후 적용\\\\n```\\\\n\\\\n---\\\\n\\\\n위 구조는 목차에 기술된 구성(1. 관심, 2. 주의, 3. 경계, 4. 심각 각 단계의 상황, 조치목록, 조치내용(세분화), 부서별 임무와 역할)을 계층적으로 표현한 것입니다.\\\\n\\\\n이후 PDF 문서의 한 페이지씩 내용을 읽으며 각 클래스별 세부 subclass나 속성(예: 피해 상황 파악, 경보 접수 시간, 책임 부서 등)을 추가하여 보완을 진행하는 방식으로 하겠습니다.\\\\n\\\\n필요 시, 위 클래스를 다시 확장하여 개별 조치 항목, 보고 및 전파 방법, 부서별 임무 세부정보를 추가하여 계층을 확장할 수 있습니다.\\\\n\\\\n원하시면 다음 단계로 PDF 페이지 별 요약 및 추가 보완 작업을 진행하겠습니다.\\'), type=\\'text\\')], created_at=1757057996, incomplete_at=None, incomplete_details=None, metadata={}, object=\\'thread.message\\', role=\\'assistant\\', run_id=\\'run_1laUWed4BRYz8lcfAplQpq0p\\', status=None, thread_id=\\'thread_rU6ONx5oWZy8k6HsHdIeMRqh\\'), Message(id=\\'msg_PqUMRn1ocJ6NAuQXP7Fk6RHQ\\', assistant_id=None, attachments=[Attachment(file_id=\\'file-9A1F1xMtoSbMob12yYDoGU\\', tools=[AttachmentToolAssistantToolsFileSearchTypeOnly(type=\\'file_search\\')]), Attachment(file_id=\\'file-A7RaBghofZ7vGvkUgkDkbb\\', tools=[AttachmentToolAssistantToolsFileSearchTypeOnly(type=\\'file_search\\')])], completed_at=None, content=[TextContentBlock(text=Text(annotations=[], value=\\'\"\\\\n\\\\n 첨부된 파일들을 분석하여 TTL 파일을 생성해주세요. 생성 후에는 첨부된 PDF 문서를 한 페이지씩 읽어서, subclass를 보완하여 추가해주세요. 이 때 기존의 요소들은 변경하지 않고 유지한 상태로 추가만 진행합니다.\\'), type=\\'text\\')], created_at=1757057988, incomplete_at=None, incomplete_details=None, metadata={}, object=\\'thread.message\\', role=\\'user\\', run_id=None, status=None, thread_id=\\'thread_rU6ONx5oWZy8k6HsHdIeMRqh\\')], has_more=False, object=\\'list\\', first_id=\\'msg_SaJLLduHB93VZmPNBJpoAepC\\', last_id=\\'msg_PqUMRn1ocJ6NAuQXP7Fk6RHQ\\')']\n"
     ]
    }
   ],
   "source": [
    "import time\n",
    "\n",
    "def run_assistant_create_class(client, thread_id, base_prompt):\n",
    "    run = client.beta.threads.runs.create(\n",
    "        thread_id=thread_id,\n",
    "        assistant_id=assistant_id,\n",
    "        instructions=\"\"\"\n",
    "                        목차를 기준으로 다른 문서들을 분석하여 OWL/RDF 표준에 맞는 TTL 파일을 생성해주세요. \n",
    "\n",
    "                        중요: 일관된 결과를 위해 다음을 반드시 준수하세요:\n",
    "                        1. 클래스 생성 순서를 절대 변경하지 마세요\n",
    "                        2. 네이밍 규칙을 절대 변경하지 마세요  \n",
    "                        3. 계층 구조를 절대 변경하지 마세요\n",
    "                        4. 동일한 패턴으로 모든 클래스를 생성하세요\n",
    "\n",
    "                        TTL 파일은 Turtle 형식으로 작성하고, 적절한 네임스페이스와 클래스, 속성을 정의해주세요.\n",
    "                        결과물은 한 번에 출력해주세요.\n",
    "                    \"\"\" + base_prompt\n",
    "    )\n",
    "\n",
    "    while True:\n",
    "        run_status = client.beta.threads.runs.retrieve(\n",
    "            thread_id=thread_id,\n",
    "            run_id=run.id\n",
    "        )\n",
    "\n",
    "        if run_status.status == 'completed':\n",
    "            print_status(\"Assistant 실행 완료\", \"SUCCESS\")\n",
    "            break\n",
    "        \n",
    "        elif run_status.status == 'failed':\n",
    "            print_status(\"Assistant 실행 실패\", \"ERROR\")\n",
    "\n",
    "        elif run_status.status == 'requires_action':\n",
    "            print_status(\"추가 액션 필요\", \"WARNING\")\n",
    "        \n",
    "        elif run_status.status == 'in_progress':\n",
    "            print_status(\"Assistant 실행 중...\", \"INFO\")\n",
    "\n",
    "            time.sleep(10)\n",
    "\n",
    "    message = client.beta.threads.messages.list(\n",
    "        thread_id=thread_id,\n",
    "        order=\"desc\"\n",
    "    )\n",
    "\n",
    "    return message\n",
    "\n",
    "ontology_message = run_assistant_create_class(client, thread_id, base_prompt)\n",
    "print([str(ontology_message)][:10])\n"
   ]
  },
  {
   "cell_type": "markdown",
   "id": "f19eccad",
   "metadata": {},
   "source": [
    "-----------"
   ]
  },
  {
   "cell_type": "markdown",
   "id": "aac5d689",
   "metadata": {},
   "source": [
    "### 응답 결과 TTL 추출 O"
   ]
  },
  {
   "cell_type": "code",
   "execution_count": 16,
   "id": "923afc98",
   "metadata": {},
   "outputs": [
    {
     "name": "stdout",
     "output_type": "stream",
     "text": [
      "\u001b[92m[SUCCESS] TTL 추출 완료 (패턴 2) - ```turtle 코드블록에서 추출됨\u001b[0m\n"
     ]
    }
   ],
   "source": [
    "import re\n",
    "\n",
    "def _validate_basic_ttl_syntax(ttl_content):\n",
    "    \"\"\"\n",
    "    기본적인 TTL 문법 검증\n",
    "    \n",
    "    Args:\n",
    "        ttl_content: TTL 내용 문자열\n",
    "    \n",
    "    Returns:\n",
    "        bool: 기본 문법이 올바른지 여부\n",
    "    \"\"\"\n",
    "    try:\n",
    "        # 기본적인 TTL 요소들 확인\n",
    "        has_prefix = '@prefix' in ttl_content or '@base' in ttl_content\n",
    "        has_class = 'rdfs:Class' in ttl_content or 'owl:Class' in ttl_content\n",
    "        has_proper_ending = ttl_content.strip().endswith('.')\n",
    "        \n",
    "        # 괄호 균형 확인\n",
    "        open_brackets = ttl_content.count('[')\n",
    "        close_brackets = ttl_content.count(']')\n",
    "        bracket_balanced = open_brackets == close_brackets\n",
    "        \n",
    "        # 세미콜론과 마침표 확인\n",
    "        has_semicolons = ';' in ttl_content\n",
    "        has_periods = '.' in ttl_content\n",
    "        \n",
    "        validation_result = has_prefix and has_class and has_proper_ending and bracket_balanced\n",
    "        \n",
    "        if not validation_result:\n",
    "            print_status(\"기본 TTL 문법 검증 실패\", \"WARNING\")\n",
    "            print_status(f\"  - Prefix 선언: {has_prefix}\", \"INFO\")\n",
    "            print_status(f\"  - Class 선언: {has_class}\", \"INFO\")\n",
    "            print_status(f\"  - 올바른 종료: {has_proper_ending}\", \"INFO\")\n",
    "            print_status(f\"  - 괄호 균형: {bracket_balanced}\", \"INFO\")\n",
    "        \n",
    "        return validation_result\n",
    "        \n",
    "    except Exception as e:\n",
    "        print_status(f\"TTL 문법 검증 중 오류: {str(e)}\", \"ERROR\")\n",
    "        return False\n",
    "\n",
    "\n",
    "\n",
    "def extract_ttl_from_response(message):\n",
    "    try:\n",
    "        if not getattr(message, \"data\", None):\n",
    "            print_status(\"응답 메세지 없음\", \"ERROR\")\n",
    "            return None, False\n",
    "\n",
    "        latest = message.data[0]\n",
    "        if not latest.content:\n",
    "            print_status(\"메세지 내용 없음\", \"ERROR\")\n",
    "            return None, False\n",
    "\n",
    "        message_text = \"\"\n",
    "        for item in latest.content:\n",
    "            if hasattr(item, \"text\") and item.text and hasattr(item.text, \"value\"):\n",
    "                message_text += item.text.value\n",
    "\n",
    "        if not message_text.strip():\n",
    "            print_status(\"텍스트 내용을 찾을 수 없습니다.\", \"ERROR\")\n",
    "            return None, False\n",
    "\n",
    "        ttl_patterns = [\n",
    "            r\"```ttl\\n(.*?)\\n```\",         # 1\n",
    "            r\"```turtle\\n(.*?)\\n```\",      # 2\n",
    "            r\"```\\n(.*?)\\n```\",            # 3\n",
    "            r\"```ttl\\s*\\n(.*?)\\n```\",      # 4\n",
    "            r\"```turtle\\s*\\n(.*?)\\n```\",   # 5\n",
    "        ]\n",
    "\n",
    "        PATTERN_EXPLANATIONS = {\n",
    "            1: \"```ttl 코드블록에서 추출됨\",\n",
    "            2: \"```turtle 코드블록에서 추출됨\",\n",
    "            3: \"라벨 없는 일반 ``` 코드블록에서 추출됨\",\n",
    "            4: \"공백 포함 ```ttl 코드블록에서 추출됨\",\n",
    "            5: \"공백 포함 ```turtle 코드블록에서 추출됨\",\n",
    "            0: \"코드블록 미탐지 → 전체 응답을 사용하여 추출됨(폴백)\",\n",
    "        }\n",
    "\n",
    "        ttl_content = None\n",
    "        matched_idx = 0\n",
    "\n",
    "        for i, pattern in enumerate(ttl_patterns, start=1):\n",
    "            match = re.search(pattern, message_text, re.DOTALL | re.IGNORECASE)\n",
    "            \n",
    "            if match:\n",
    "                ttl_content = match.group(1).strip()\n",
    "                matched_idx = i\n",
    "                break\n",
    "                \n",
    "        if not ttl_content:\n",
    "            matched_idx = 0\n",
    "            print_status(\"TTL 블록을 찾을 수 없습니다.\", \"ERROR\")\n",
    "        \n",
    "        if len(ttl_content.strip()) < 50 :\n",
    "            print_status(\"추출된 내용이 너무 짧습니다.\", \"ERROR\")\n",
    "\n",
    "        if not _validate_basic_ttl_syntax(ttl_content):\n",
    "            print_status(\"TTL 문법을 확인해보세요.\", \"WARNING\")\n",
    "\n",
    "\n",
    "        print_status(f\"TTL 추출 완료 (패턴 {matched_idx}) - {PATTERN_EXPLANATIONS[matched_idx]}\", \"SUCCESS\" if matched_idx else \"WARNING\")\n",
    "        return ttl_content, True\n",
    "\n",
    "    except Exception as e:\n",
    "        print_status(f\"TTL 추출 중 오류가 발생했습니다.: {e}\", \"ERROR\")\n",
    "\n",
    "\n",
    "ontology_ttl_content = extract_ttl_from_response(ontology_message)\n",
    "\n",
    "# 위에서 튜플 형태로 출력되기 떄문에 str로 변환해야 정상적으로 ttl 파일이 저장됨\n",
    "# ('@prefix ex:     <http://example.org/disaster#> .\\n@prefix rdfs: \n",
    "# ->  @prefix ex:     <http://example.org/disaster#> .\n",
    "ontology_ttl_content_str = ontology_ttl_content[0]\n"
   ]
  },
  {
   "cell_type": "markdown",
   "id": "010d3778",
   "metadata": {},
   "source": [
    "### TTL 파일 생성 후 저장 O"
   ]
  },
  {
   "cell_type": "code",
   "execution_count": 17,
   "id": "bd190006",
   "metadata": {},
   "outputs": [
    {
     "name": "stdout",
     "output_type": "stream",
     "text": [
      "위기경보수준별조치사항\n"
     ]
    }
   ],
   "source": [
    "def extract_filename(official_docs_path):\n",
    "    \"\"\"\n",
    "    공공기관 문서명 추출\n",
    "    \"\"\"\n",
    "    official_docs_name = os.path.basename(official_docs_path)\n",
    "    official_docs_name_without_ext = os.path.splitext(official_docs_name)[0]\n",
    "    return official_docs_name_without_ext\n",
    "\n",
    "action_level_docs_name = extract_filename(actions_level_docs_path)\n",
    "\n",
    "print(action_level_docs_name)"
   ]
  },
  {
   "cell_type": "code",
   "execution_count": 18,
   "id": "ac98034a",
   "metadata": {},
   "outputs": [
    {
     "name": "stdout",
     "output_type": "stream",
     "text": [
      "\u001b[92m[SUCCESS] TTL 파일 생성 완료\u001b[0m\n",
      "\u001b[94m[INFO] 위기경보수준별조치사항_Class_20250905_1621.ttl 파일 경로: Ontology_Output\\위기경보수준별조치사항_Class_20250905_1621.ttl\u001b[0m\n",
      "\u001b[94m[INFO] 위기경보수준별조치사항_Class_20250905_1621.ttl 파일 크기: 1.73KB\u001b[0m\n",
      "\u001b[94m[INFO] 위기경보수준별조치사항_Class_20250905_1621.ttl 내용 길이: 1367자\u001b[0m\n"
     ]
    }
   ],
   "source": [
    "from datetime import datetime\n",
    "\n",
    "\n",
    "def save_ttl_file(ttl_content, filename=None, output_dir=\"Ontology_Output\"):\n",
    "    try:\n",
    "        \n",
    "        # 저장할 디렉토리가 없을 경우 생성\n",
    "        if not os.path.exists(output_dir):\n",
    "            os.makedirs(output_dir)\n",
    "            print_status(f\"결과물을 저장할 폴더를 생성했습니다. : {output_dir}\", \"SUCCESS\")\n",
    "\n",
    "        # 파일명 설정\n",
    "        if filename:\n",
    "            timestamp = datetime.now().strftime(\"%Y%m%d_%H%M\")\n",
    "            filename = f\"{filename}_Class_{timestamp}.ttl\"\n",
    "\n",
    "        # 파일 확장자 확인\n",
    "        if not filename.endswith('.ttl'):\n",
    "            filename += '.ttl'\n",
    "\n",
    "        # 전체 파일 경로\n",
    "        file_path = os.path.join(output_dir, filename)\n",
    "\n",
    "        # 내용 검증\n",
    "        if not ttl_content or len(ttl_content.strip()) < 50:\n",
    "            return None, False, \"저장할 TTL 내용이 유효하지 않습니다.\"\n",
    "\n",
    "        with open(file_path, 'w', encoding='utf-8') as f:\n",
    "            # 내용 저장\n",
    "            f.write(ttl_content)\n",
    "\n",
    "            # footer\n",
    "            f.write(\"# End of TTL File\\n\")\n",
    "\n",
    "        file_size = os.path.getsize(file_path)\n",
    "        file_size_kb = file_size / 1024\n",
    "\n",
    "        print_status(\"TTL 파일 생성 완료\", \"SUCCESS\")\n",
    "        print_status(f\"{filename} 파일 경로: {file_path}\", \"INFO\")\n",
    "        print_status(f\"{filename} 파일 크기: {file_size_kb:.2f}KB\", \"INFO\")\n",
    "        print_status(f\"{filename} 내용 길이: {len(ttl_content)}자\", \"INFO\")\n",
    "\n",
    "\n",
    "    except Exception as e:\n",
    "        print_status(f\"TTL 파일 생성 실패: {e}\", \"ERROR\")\n",
    "        return None\n",
    "\n",
    "\n",
    "final_output = save_ttl_file(ontology_ttl_content_str, action_level_docs_name)"
   ]
  },
  {
   "cell_type": "markdown",
   "id": "d0e0c300",
   "metadata": {},
   "source": [
    "--------"
   ]
  },
  {
   "cell_type": "markdown",
   "id": "ea599a6a",
   "metadata": {},
   "source": [
    "--------"
   ]
  },
  {
   "cell_type": "markdown",
   "id": "d4d1d374",
   "metadata": {},
   "source": [
    "# ** STEP 2 : 페이지 분리 후 Subclass 보완 추가 ** "
   ]
  },
  {
   "cell_type": "code",
   "execution_count": null,
   "id": "8bfdd83e",
   "metadata": {},
   "outputs": [],
   "source": [
    "def run_assistant_page_json(client, thread_id, base_prompt, addendum_page_json_promt=None):\n",
    "\n",
    "    addendum_page_json_promt = os.getenv(\"ADDENDUM_PAGE_JSON\")\n",
    "\n",
    "    run = client.beta.threads.runs.create(\n",
    "        thread_id=thread_id,\n",
    "        assistant_id=assistant_id,\n",
    "        instructions= base_prompt + addendum_page_json_promt\n",
    "    )\n",
    "\n",
    "    while True:\n",
    "        run_status = client.beta.threads.runs.retrieve(\n",
    "            thread_id=thread_id,\n",
    "            run_id=run.id\n",
    "        )\n",
    "\n",
    "        if run_status.status == 'completed':\n",
    "            print_status(\"Assistant 실행 완료\", \"SUCCESS\")\n",
    "            break\n",
    "        \n",
    "        elif run_status.status == 'failed':\n",
    "            print_status(\"Assistant 실행 실패\", \"ERROR\")\n",
    "\n",
    "        elif run_status.status == 'requires_action':\n",
    "            print_status(\"추가 액션 필요\", \"WARNING\")\n",
    "        \n",
    "        elif run_status.status == 'in_progress':\n",
    "            print_status(\"Assistant 실행 중...\", \"INFO\")\n",
    "\n",
    "            time.sleep(10)\n",
    "\n",
    "    page_json_message = client.beta.threads.messages.list(\n",
    "        thread_id=thread_id,\n",
    "        order=\"desc\"\n",
    "    )\n",
    "\n",
    "    return page_json_message"
   ]
  },
  {
   "cell_type": "code",
   "execution_count": 29,
   "id": "7b72aadf",
   "metadata": {},
   "outputs": [
    {
     "ename": "TypeError",
     "evalue": "can only concatenate str (not \"NoneType\") to str",
     "output_type": "error",
     "traceback": [
      "\u001b[31m---------------------------------------------------------------------------\u001b[39m",
      "\u001b[31mTypeError\u001b[39m                                 Traceback (most recent call last)",
      "\u001b[36mCell\u001b[39m\u001b[36m \u001b[39m\u001b[32mIn[29]\u001b[39m\u001b[32m, line 1\u001b[39m\n\u001b[32m----> \u001b[39m\u001b[32m1\u001b[39m page_json = \u001b[43mrun_assistant_page_json\u001b[49m\u001b[43m(\u001b[49m\u001b[43mclient\u001b[49m\u001b[43m,\u001b[49m\u001b[43m \u001b[49m\u001b[43mthread_id\u001b[49m\u001b[43m,\u001b[49m\u001b[43m \u001b[49m\u001b[43mbase_prompt\u001b[49m\u001b[43m)\u001b[49m\n\u001b[32m      2\u001b[39m \u001b[38;5;28mprint\u001b[39m(page_json)\n",
      "\u001b[36mCell\u001b[39m\u001b[36m \u001b[39m\u001b[32mIn[28]\u001b[39m\u001b[32m, line 8\u001b[39m, in \u001b[36mrun_assistant_page_json\u001b[39m\u001b[34m(client, thread_id, base_prompt, addendum_page_json_promt)\u001b[39m\n\u001b[32m      1\u001b[39m \u001b[38;5;28;01mdef\u001b[39;00m\u001b[38;5;250m \u001b[39m\u001b[34mrun_assistant_page_json\u001b[39m(client, thread_id, base_prompt, addendum_page_json_promt=\u001b[38;5;28;01mNone\u001b[39;00m):\n\u001b[32m      3\u001b[39m     addendum_page_json_promt = os.getenv(\u001b[33m\"\u001b[39m\u001b[33mADDENDUM_PAGE_JSON\u001b[39m\u001b[33m\"\u001b[39m)\n\u001b[32m      5\u001b[39m     run = client.beta.threads.runs.create(\n\u001b[32m      6\u001b[39m         thread_id=thread_id,\n\u001b[32m      7\u001b[39m         assistant_id=assistant_id,\n\u001b[32m----> \u001b[39m\u001b[32m8\u001b[39m         instructions=\u001b[43mbase_prompt\u001b[49m\u001b[43m \u001b[49m\u001b[43m+\u001b[49m\u001b[43m \u001b[49m\u001b[43maddendum_page_json_promt\u001b[49m\n\u001b[32m      9\u001b[39m     )\n\u001b[32m     11\u001b[39m     \u001b[38;5;28;01mwhile\u001b[39;00m \u001b[38;5;28;01mTrue\u001b[39;00m:\n\u001b[32m     12\u001b[39m         run_status = client.beta.threads.runs.retrieve(\n\u001b[32m     13\u001b[39m             thread_id=thread_id,\n\u001b[32m     14\u001b[39m             run_id=run.id\n\u001b[32m     15\u001b[39m         )\n",
      "\u001b[31mTypeError\u001b[39m: can only concatenate str (not \"NoneType\") to str"
     ]
    }
   ],
   "source": [
    "page_json = run_assistant_page_json(client, thread_id, base_prompt)\n",
    "print(page_json)"
   ]
  },
  {
   "cell_type": "code",
   "execution_count": null,
   "id": "af914f54",
   "metadata": {},
   "outputs": [],
   "source": []
  }
 ],
 "metadata": {
  "kernelspec": {
   "display_name": "Python 3",
   "language": "python",
   "name": "python3"
  },
  "language_info": {
   "codemirror_mode": {
    "name": "ipython",
    "version": 3
   },
   "file_extension": ".py",
   "mimetype": "text/x-python",
   "name": "python",
   "nbconvert_exporter": "python",
   "pygments_lexer": "ipython3",
   "version": "3.11.9"
  }
 },
 "nbformat": 4,
 "nbformat_minor": 5
}
