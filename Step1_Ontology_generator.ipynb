{
 "cells": [
  {
   "cell_type": "code",
   "execution_count": 5,
   "id": "b51e3880",
   "metadata": {},
   "outputs": [],
   "source": [
    "# %pip install --upgrade openai"
   ]
  },
  {
   "cell_type": "markdown",
   "id": "8b800635",
   "metadata": {},
   "source": [
    "### Import Library"
   ]
  },
  {
   "cell_type": "code",
   "execution_count": 6,
   "id": "df0f3f8e",
   "metadata": {},
   "outputs": [],
   "source": [
    "import os\n",
    "from openai import OpenAI\n",
    "from dotenv import load_dotenv"
   ]
  },
  {
   "cell_type": "code",
   "execution_count": 7,
   "id": "2509675b",
   "metadata": {},
   "outputs": [
    {
     "name": "stderr",
     "output_type": "stream",
     "text": [
      "python-dotenv could not parse statement starting at line 4\n",
      "python-dotenv could not parse statement starting at line 5\n",
      "python-dotenv could not parse statement starting at line 6\n",
      "python-dotenv could not parse statement starting at line 8\n",
      "python-dotenv could not parse statement starting at line 9\n",
      "python-dotenv could not parse statement starting at line 10\n",
      "python-dotenv could not parse statement starting at line 11\n",
      "python-dotenv could not parse statement starting at line 13\n",
      "python-dotenv could not parse statement starting at line 14\n",
      "python-dotenv could not parse statement starting at line 15\n",
      "python-dotenv could not parse statement starting at line 16\n",
      "python-dotenv could not parse statement starting at line 18\n",
      "python-dotenv could not parse statement starting at line 19\n",
      "python-dotenv could not parse statement starting at line 20\n",
      "python-dotenv could not parse statement starting at line 21\n",
      "python-dotenv could not parse statement starting at line 22\n",
      "python-dotenv could not parse statement starting at line 23\n",
      "python-dotenv could not parse statement starting at line 24\n",
      "python-dotenv could not parse statement starting at line 26\n",
      "python-dotenv could not parse statement starting at line 27\n",
      "python-dotenv could not parse statement starting at line 28\n",
      "python-dotenv could not parse statement starting at line 29\n",
      "python-dotenv could not parse statement starting at line 30\n",
      "python-dotenv could not parse statement starting at line 31\n",
      "python-dotenv could not parse statement starting at line 32\n",
      "python-dotenv could not parse statement starting at line 34\n",
      "python-dotenv could not parse statement starting at line 35\n",
      "python-dotenv could not parse statement starting at line 36\n",
      "python-dotenv could not parse statement starting at line 37\n",
      "python-dotenv could not parse statement starting at line 38\n",
      "python-dotenv could not parse statement starting at line 39\n",
      "python-dotenv could not parse statement starting at line 41\n",
      "python-dotenv could not parse statement starting at line 42\n",
      "python-dotenv could not parse statement starting at line 43\n",
      "python-dotenv could not parse statement starting at line 44\n",
      "python-dotenv could not parse statement starting at line 45\n",
      "python-dotenv could not parse statement starting at line 46\n",
      "python-dotenv could not parse statement starting at line 47\n",
      "python-dotenv could not parse statement starting at line 49\n",
      "python-dotenv could not parse statement starting at line 50\n",
      "python-dotenv could not parse statement starting at line 51\n",
      "python-dotenv could not parse statement starting at line 52\n",
      "python-dotenv could not parse statement starting at line 55\n",
      "python-dotenv could not parse statement starting at line 56\n",
      "python-dotenv could not parse statement starting at line 57\n",
      "python-dotenv could not parse statement starting at line 58\n",
      "python-dotenv could not parse statement starting at line 59\n",
      "python-dotenv could not parse statement starting at line 60\n",
      "python-dotenv could not parse statement starting at line 62\n",
      "python-dotenv could not parse statement starting at line 63\n",
      "python-dotenv could not parse statement starting at line 64\n",
      "python-dotenv could not parse statement starting at line 65\n",
      "python-dotenv could not parse statement starting at line 66\n",
      "python-dotenv could not parse statement starting at line 68\n",
      "python-dotenv could not parse statement starting at line 71\n",
      "python-dotenv could not parse statement starting at line 72\n",
      "python-dotenv could not parse statement starting at line 73\n",
      "python-dotenv could not parse statement starting at line 74\n",
      "python-dotenv could not parse statement starting at line 75\n",
      "python-dotenv could not parse statement starting at line 76\n",
      "python-dotenv could not parse statement starting at line 77\n",
      "python-dotenv could not parse statement starting at line 79\n",
      "python-dotenv could not parse statement starting at line 80\n",
      "python-dotenv could not parse statement starting at line 81\n",
      "python-dotenv could not parse statement starting at line 82\n",
      "python-dotenv could not parse statement starting at line 83\n",
      "python-dotenv could not parse statement starting at line 84\n",
      "python-dotenv could not parse statement starting at line 85\n",
      "python-dotenv could not parse statement starting at line 87\n",
      "python-dotenv could not parse statement starting at line 88\n",
      "python-dotenv could not parse statement starting at line 89\n"
     ]
    },
    {
     "data": {
      "text/plain": [
       "True"
      ]
     },
     "execution_count": 7,
     "metadata": {},
     "output_type": "execute_result"
    }
   ],
   "source": [
    "load_dotenv()"
   ]
  },
  {
   "cell_type": "code",
   "execution_count": 8,
   "id": "ab52067c",
   "metadata": {},
   "outputs": [],
   "source": [
    "\"\"\" 환경변수 설정 \"\"\"\n",
    "client = OpenAI(api_key=os.getenv('OPENAI_API_KEY'))\n",
    "assistant_id = os.getenv('ASSISTANT_ID')\n",
    "vector_store_id = os.getenv('VECTOR_STORE_ID')\n",
    "base_prompt = os.getenv('BASE_PROMPT')"
   ]
  },
  {
   "cell_type": "code",
   "execution_count": 9,
   "id": "9f4630bc",
   "metadata": {},
   "outputs": [],
   "source": [
    "def print_status(message, status=\"INFO\"):\n",
    "    \"\"\" 터미널 메세지 커스텀(선택)\"\"\"\n",
    "    status_color = {\n",
    "        \"INFO\": \"\\033[94m\", # blue\n",
    "        \"SUCCESS\": \"\\033[92m\", # green\n",
    "        \"WARING\": \"\\033[93m\", # yellow\n",
    "        \"ERROR\": \"\\003[91m\", # red\n",
    "        \"RESET\": \"\\033[0m\" # reset\n",
    "    }\n",
    "\n",
    "    color = status_color.get(status, status_color[\"INFO\"])\n",
    "    reset = status_color[\"RESET\"]\n",
    "\n",
    "    print(f\"{color}[{status}] {message}{reset}\")"
   ]
  },
  {
   "cell_type": "markdown",
   "id": "9865bf53",
   "metadata": {},
   "source": [
    "### 환경변수 설정"
   ]
  },
  {
   "cell_type": "markdown",
   "id": "baae4904",
   "metadata": {},
   "source": [
    "### 파일 업로드 후 벡터 스토어에 추가 O"
   ]
  },
  {
   "cell_type": "code",
   "execution_count": 10,
   "id": "78f0bf01",
   "metadata": {},
   "outputs": [],
   "source": [
    "def upload_file_to_vector_store(file_paths):\n",
    "    # 파일 업로드\n",
    "    uploaded_file_ids = []\n",
    "\n",
    "    for file_path in file_paths:\n",
    "        if os.path.exists(file_path):\n",
    "            try :\n",
    "                with open(file_path, 'rb') as f :\n",
    "                    uploaded_file = client.files.create(\n",
    "                        file=f,\n",
    "                        purpose='assistants'\n",
    "                    )\n",
    "\n",
    "                print_status(f\"파일 업로드 완료: {uploaded_file.id}\", \"SUCCESS\")\n",
    "\n",
    "\n",
    "                # 벡터 스토어에 추가\n",
    "                client.vector_stores.files.create(\n",
    "                    vector_store_id = vector_store_id,\n",
    "                    file_id = uploaded_file.id\n",
    "                )\n",
    "\n",
    "                print_status(f\"벡터 스토어에 추가 완료: {uploaded_file.id}\", \"SUCCESS\")\n",
    "                uploaded_file_ids.append(uploaded_file.id)\n",
    "\n",
    "\n",
    "            except Exception as e :\n",
    "                print_status(f\"파일을 찾을 수 없습니다: {file_path}\", \"ERROR\")\n",
    "                continue\n",
    "    #업로드된 파일 개수 확인\n",
    "    print_status(f\"총 {len(uploaded_file_ids)}개의 파일이 벡터 스토어에 업로드 되었습니다\", \"SUCCESS\")\n",
    "    return uploaded_file_ids\n",
    "\n",
    "    "
   ]
  },
  {
   "cell_type": "code",
   "execution_count": 11,
   "id": "4162e931",
   "metadata": {},
   "outputs": [
    {
     "name": "stdout",
     "output_type": "stream",
     "text": [
      "\u001b[92m[SUCCESS] 파일 업로드 완료: file-4vA8ppcU7jy7BM8aRU5Frn\u001b[0m\n",
      "\u001b[92m[SUCCESS] 벡터 스토어에 추가 완료: file-4vA8ppcU7jy7BM8aRU5Frn\u001b[0m\n",
      "\u001b[92m[SUCCESS] 파일 업로드 완료: file-Dd8cmTNapHwgW7fdo5zNDu\u001b[0m\n",
      "\u001b[92m[SUCCESS] 벡터 스토어에 추가 완료: file-Dd8cmTNapHwgW7fdo5zNDu\u001b[0m\n",
      "\u001b[92m[SUCCESS] 총 2개의 파일이 벡터 스토어에 업로드 되었습니다\u001b[0m\n"
     ]
    }
   ],
   "source": [
    "# 로컬에 있는 3장 pdf 파일과 목차 경로 정의\n",
    "from pathlib import Path\n",
    "\n",
    "chat3_index_docs_path = Path(r\"C:\\Users\\user\\Desktop\\Project\\Ontology\\Ontology_Root\\목차.txt\")\n",
    "actions_level_docs_path = Path(r\"C:\\Users\\user\\Desktop\\Project\\Ontology\\\\Ontology_Root\\위기경보수준별조치사항.pdf\")\n",
    "docs_path = [chat3_index_docs_path, actions_level_docs_path]\n",
    "\n",
    "uploaded_file_ids = upload_file_to_vector_store(docs_path)"
   ]
  },
  {
   "cell_type": "markdown",
   "id": "e1a67c2b",
   "metadata": {},
   "source": [
    "### 스레드 생성 및 메세지 추가 완료 O"
   ]
  },
  {
   "cell_type": "code",
   "execution_count": 12,
   "id": "fa2b0dc9",
   "metadata": {},
   "outputs": [],
   "source": [
    "def create_thread(client=client):\n",
    "    thread = client.beta.threads.create()\n",
    "    print_status(f\"스레드 생성 완료: {thread.id}\", \"SUCCESS\")\n",
    "\n",
    "    thread_id = thread.id\n",
    "    return thread.id"
   ]
  },
  {
   "cell_type": "code",
   "execution_count": 13,
   "id": "9e9893ff",
   "metadata": {},
   "outputs": [
    {
     "name": "stderr",
     "output_type": "stream",
     "text": [
      "C:\\Users\\user\\AppData\\Local\\Temp\\ipykernel_56704\\4158020363.py:2: DeprecationWarning: The Assistants API is deprecated in favor of the Responses API\n",
      "  thread = client.beta.threads.create()\n"
     ]
    },
    {
     "name": "stdout",
     "output_type": "stream",
     "text": [
      "\u001b[92m[SUCCESS] 스레드 생성 완료: thread_J7FGiLdcbYS7RlDbzNLe9b1O\u001b[0m\n"
     ]
    }
   ],
   "source": [
    "thread_id = create_thread()"
   ]
  },
  {
   "cell_type": "code",
   "execution_count": 14,
   "id": "3d7e1668",
   "metadata": {},
   "outputs": [],
   "source": [
    "def add_message_to_thread(client, thread_id, base_prompt, uploaded_file_ids):\n",
    "    message_content = base_prompt + \"\\n\\n 첨부된 파일들을 분석하여 TTL 파일을 생성해주세요. 생성 후에는 첨부된 PDF 문서를 한 페이지씩 읽어서, subclass를 보완하여 추가해주세요. 이 때 기존의 요소들은 변경하지 않고 유지한 상태로 추가만 진행합니다.\"\n",
    "\n",
    "    thread_message = client.beta.threads.messages.create(\n",
    "        thread_id=thread_id,\\\n",
    "        role = \"user\",\n",
    "        content=message_content,\n",
    "        attachments=[\n",
    "            {\n",
    "                \"file_id\": file_id,\n",
    "                \"tools\": [{\"type\": \"file_search\"}]\n",
    "            }\n",
    "\n",
    "            for file_id in uploaded_file_ids\n",
    "        ]\n",
    "    )\n",
    "\n",
    "    print_status(f\"스레드 메세지 추가 완료\", \"SUCCESS\")\n",
    "    return thread_message.id"
   ]
  },
  {
   "cell_type": "code",
   "execution_count": 15,
   "id": "d70636ac",
   "metadata": {},
   "outputs": [
    {
     "name": "stderr",
     "output_type": "stream",
     "text": [
      "C:\\Users\\user\\AppData\\Local\\Temp\\ipykernel_56704\\3708337384.py:4: DeprecationWarning: The Assistants API is deprecated in favor of the Responses API\n",
      "  thread_message = client.beta.threads.messages.create(\n"
     ]
    },
    {
     "name": "stdout",
     "output_type": "stream",
     "text": [
      "\u001b[92m[SUCCESS] 스레드 메세지 추가 완료\u001b[0m\n"
     ]
    },
    {
     "data": {
      "text/plain": [
       "'msg_hQz1VPu9tQ8SnhiqWrVkXlCT'"
      ]
     },
     "execution_count": 15,
     "metadata": {},
     "output_type": "execute_result"
    }
   ],
   "source": [
    "add_message_to_thread(client, thread_id, base_prompt, uploaded_file_ids)"
   ]
  },
  {
   "cell_type": "markdown",
   "id": "c6f54585",
   "metadata": {},
   "source": [
    "### Assistant 실행 O\n",
    "\n",
    "run_status.status == 'queued'        # 대기 중  \n",
    "run_status.status == 'in_progress'   # 실행 중  \n",
    "run_status.status == 'completed'     # 완료  \n",
    "run_status.status == 'failed'        # 실패  \n",
    "run_status.status == 'cancelled'     # 취소됨  \n",
    "run_status.status == 'expired'       # 만료됨  \n",
    "run_status.status == 'requires_action'  # 추가 액션 필요\n",
    "\n",
    "Assistatnt를 실행하면 추가 vector stores가 생성됨"
   ]
  },
  {
   "cell_type": "code",
   "execution_count": 16,
   "id": "e1fd940d",
   "metadata": {},
   "outputs": [],
   "source": [
    "import time\n",
    "\n",
    "def run_assistant(client, thread_id, base_prompt):\n",
    "    run = client.beta.threads.runs.create(\n",
    "        thread_id=thread_id,\n",
    "        assistant_id=assistant_id,\n",
    "        instructions=base_prompt + \"\"\"\n",
    "        1. 먼저 목차를 기준으로 다른 문서들을 분석하여 OWL/RDF 표준에 맞는 TTL 파일을 생성해주세요. \n",
    "        TTL 파일은 Turtle 형식으로 작성하고, 적절한 네임스페이스와 클래스, 속성을 정의해주세요. \n",
    "        2. OWL/TTL 표준에 맞춰 한 번 더 아직 반영되지 않은 subclass를 추가 및 보완하세요. \n",
    "        추가할 subclass가 없다면 추가하지 않습니다. \n",
    "        먼저 생성된 모든 Class는 변경하지 말고 그대로 유지하며 \n",
    "        첨부된 페이지에 새롭게 드러나는 개념이 있다면 적절한 상위 Class 아래에 Subclass를 보완하세요. \n",
    "        3. 모든 변경 사항(Subclass 추가)은 OWL/TTL 문법에 맞춰 작성하세요. \n",
    "        4. 결과물은 한 번에 출력해주세요.\"\"\"\n",
    "    )\n",
    "\n",
    "    while True:\n",
    "        run_status = client.beta.threads.runs.retrieve(\n",
    "            thread_id=thread_id,\n",
    "            run_id=run.id\n",
    "        )\n",
    "\n",
    "        if run_status.status == 'completed':\n",
    "            print_status(\"Assistant 실행 완료\", \"SUCCESS\")\n",
    "            break\n",
    "        \n",
    "        elif run_status.status == 'failed':\n",
    "            print_status(\"Assistant 실행 실패\", \"ERROR\")\n",
    "\n",
    "        elif run_status.status == 'requires_action':\n",
    "            print_status(\"추가 액션 필요\", \"WARNING\")\n",
    "        \n",
    "        elif run_status.status == 'in_progress':\n",
    "            print_status(\"Assistant 실행 중...\", \"INFO\")\n",
    "\n",
    "            time.sleep(10)\n",
    "\n",
    "    message = client.beta.threads.messages.list(\n",
    "        thread_id=thread_id,\n",
    "        order=\"desc\"\n",
    "    )\n",
    "\n",
    "    return message"
   ]
  },
  {
   "cell_type": "markdown",
   "id": "f19eccad",
   "metadata": {},
   "source": [
    "-----------"
   ]
  },
  {
   "cell_type": "code",
   "execution_count": 17,
   "id": "eeff51ab",
   "metadata": {},
   "outputs": [
    {
     "name": "stderr",
     "output_type": "stream",
     "text": [
      "C:\\Users\\user\\AppData\\Local\\Temp\\ipykernel_56704\\477732641.py:4: DeprecationWarning: The Assistants API is deprecated in favor of the Responses API\n",
      "  run = client.beta.threads.runs.create(\n",
      "C:\\Users\\user\\AppData\\Local\\Temp\\ipykernel_56704\\477732641.py:19: DeprecationWarning: The Assistants API is deprecated in favor of the Responses API\n",
      "  run_status = client.beta.threads.runs.retrieve(\n"
     ]
    },
    {
     "name": "stdout",
     "output_type": "stream",
     "text": [
      "\u001b[94m[INFO] Assistant 실행 중...\u001b[0m\n",
      "\u001b[94m[INFO] Assistant 실행 중...\u001b[0m\n",
      "\u001b[94m[INFO] Assistant 실행 중...\u001b[0m\n",
      "\u001b[94m[INFO] Assistant 실행 중...\u001b[0m\n",
      "\u001b[94m[INFO] Assistant 실행 중...\u001b[0m\n",
      "\u001b[94m[INFO] Assistant 실행 중...\u001b[0m\n",
      "\u001b[92m[SUCCESS] Assistant 실행 완료\u001b[0m\n"
     ]
    },
    {
     "name": "stderr",
     "output_type": "stream",
     "text": [
      "C:\\Users\\user\\AppData\\Local\\Temp\\ipykernel_56704\\477732641.py:39: DeprecationWarning: The Assistants API is deprecated in favor of the Responses API\n",
      "  message = client.beta.threads.messages.list(\n"
     ]
    }
   ],
   "source": [
    "ontology_message = run_assistant(client, thread_id, base_prompt)"
   ]
  },
  {
   "cell_type": "code",
   "execution_count": 18,
   "id": "7d331d5e",
   "metadata": {},
   "outputs": [
    {
     "name": "stdout",
     "output_type": "stream",
     "text": [
      "['SyncCursorPage[Message](data=[Message(id=\\'msg_fwAlEOtorytdtHFi7aQzhUxS\\', assistant_id=\\'asst_W7kaWMqWblyhhVj1rCP0mVow\\', attachments=[], completed_at=None, content=[TextContentBlock(text=Text(annotations=[], value=\\'아래는 주어진 목차와 첨부된 PDF 문서 내 주요 내용들을 기반으로 생성한 OWL/Turtle 형식의 위기경보 수준별 조치사항 온톨로지 파일입니다.\\\\n\\\\n목차를 기준으로 \"관심\", \"주의\", \"경계\", \"심각\"의 4단계 위기경보 수준을 최상위 클래스(Level)로 분류하고, 각 단계별로 상황(Situation), 조치목록(ActionList), 조치내용(ActionDetail), 부서임무(Roles)를 클래스 및 하위 클래스로 구성하였습니다.\\\\n\\\\n또한 PDF 내용 중 드러난 세부 개념에 대한 subclass를 해당 상위클래스 아래 새롭게 보완하여 작성하였습니다. 기존 클래스는 변경하지 않고, subclass 형식으로만 추가하였습니다.\\\\n\\\\n```turtle\\\\n@prefix : <http://example.org/crisis#> .\\\\n@prefix owl: <http://www.w3.org/2002/07/owl#> .\\\\n@prefix rdf: <http://www.w3.org/1999/02/22-rdf-syntax-ns#> .\\\\n@prefix rdfs: <http://www.w3.org/2000/01/rdf-schema#> .\\\\n@prefix xsd: <http://www.w3.org/2001/XMLSchema#> .\\\\n\\\\n#################################################################\\\\n# Ontology Declaration\\\\n#################################################################\\\\n\\\\n:위기경보_온톨로지 rdf:type owl:Ontology ;\\\\n    rdfs:comment \"위기경보 수준별 조치사항에 대한 온톨로지\"@ko .\\\\n\\\\n#################################################################\\\\n# 클래스 정의(Class Definitions)\\\\n#################################################################\\\\n\\\\n### 위기경보 수준 최상위 클래스\\\\n:Level rdf:type owl:Class ;\\\\n    rdfs:label \"위기경보 수준\"@ko ;\\\\n    rdfs:comment \"위기경보 단계의 최상위 클래스\"@ko .\\\\n\\\\n# 각 단계별 Level 클래스\\\\n:관심 rdf:type owl:Class ;\\\\n    rdfs:subClassOf :Level ;\\\\n    rdfs:label \"관심 위기경보\"@ko .\\\\n\\\\n:주의 rdf:type owl:Class ;\\\\n    rdfs:subClassOf :Level ;\\\\n    rdfs:label \"주의 위기경보\"@ko .\\\\n\\\\n:경계 rdf:type owl:Class ;\\\\n    rdfs:subClassOf :Level ;\\\\n    rdfs:label \"경계 위기경보\"@ko .\\\\n\\\\n:심각 rdf:type owl:Class ;\\\\n    rdfs:subClassOf :Level ;\\\\n    rdfs:label \"심각 위기경보\"@ko .\\\\n\\\\n### 상황 (Situation)\\\\n:Situation rdf:type owl:Class ;\\\\n    rdfs:label \"상황\"@ko ;\\\\n    rdfs:comment \"각 위기경보 단계별 상황 설명\"@ko .\\\\n\\\\n# 각 단계별 상황 하위클래스\\\\n:관심_상황 rdf:type owl:Class ;\\\\n    rdfs:subClassOf :Situation , :관심 ;\\\\n    rdfs:label \"관심 상황\"@ko .\\\\n\\\\n:주의_상황 rdf:type owl:Class ;\\\\n    rdfs:subClassOf :Situation , :주의 ;\\\\n    rdfs:label \"주의 상황\"@ko .\\\\n\\\\n:경계_상황 rdf:type owl:Class ;\\\\n    rdfs:subClassOf :Situation , :경계 ;\\\\n    rdfs:label \"경계 상황\"@ko .\\\\n\\\\n:심각_상황 rdf:type owl:Class ;\\\\n    rdfs:subClassOf :Situation , :심각 ;\\\\n    rdfs:label \"심각 상황\"@ko .\\\\n\\\\n### 조치목록 (ActionList)\\\\n:ActionList rdf:type owl:Class ;\\\\n    rdfs:label \"조치목록\"@ko ;\\\\n    rdfs:comment \"각 위기경보 단계별 조치목록\"@ko .\\\\n\\\\n:관심_조치목록 rdf:type owl:Class ;\\\\n    rdfs:subClassOf :ActionList , :관심 ;\\\\n    rdfs:label \"관심 조치목록\"@ko .\\\\n\\\\n:주의_조치목록 rdf:type owl:Class ;\\\\n    rdfs:subClassOf :ActionList , :주의 ;\\\\n    rdfs:label \"주의 조치목록\"@ko .\\\\n\\\\n:경계_조치목록 rdf:type owl:Class ;\\\\n    rdfs:subClassOf :ActionList , :경계 ;\\\\n    rdfs:label \"경계 조치목록\"@ko .\\\\n\\\\n:심각_조치목록 rdf:type owl:Class ;\\\\n    rdfs:subClassOf :ActionList , :심각 ;\\\\n    rdfs:label \"심각 조치목록\"@ko .\\\\n\\\\n### 조치내용 (ActionDetail)\\\\n:ActionDetail rdf:type owl:Class ;\\\\n    rdfs:label \"조치내용\"@ko ;\\\\n    rdfs:comment \"각 위기경보 단계별 세부 조치내용\"@ko .\\\\n\\\\n:관심_조치내용 rdf:type owl:Class ;\\\\n    rdfs:subClassOf :ActionDetail , :관심 ;\\\\n    rdfs:label \"관심 조치내용\"@ko .\\\\n\\\\n:주의_조치내용 rdf:type owl:Class ;\\\\n    rdfs:subClassOf :ActionDetail , :주의 ;\\\\n    rdfs:label \"주의 조치내용\"@ko .\\\\n\\\\n:경계_조치내용 rdf:type owl:Class ;\\\\n    rdfs:subClassOf :ActionDetail , :경계 ;\\\\n    rdfs:label \"경계 조치내용\"@ko .\\\\n\\\\n:심각_조치내용 rdf:type owl:Class ;\\\\n    rdfs:subClassOf :ActionDetail , :심각 ;\\\\n    rdfs:label \"심각 조치내용\"@ko .\\\\n\\\\n### 부서별 임무와 역할 (Roles)\\\\n:Roles rdf:type owl:Class ;\\\\n    rdfs:label \"부서별 임무와 역할\"@ko ;\\\\n    rdfs:comment \"단계별 부서 임무 및 역할 설명\"@ko .\\\\n\\\\n:관심_부서역할 rdf:type owl:Class ;\\\\n    rdfs:subClassOf :Roles , :관심 ;\\\\n    rdfs:label \"관심 부서별 임무와 역할\"@ko .\\\\n\\\\n:주의_부서역할 rdf:type owl:Class ;\\\\n    rdfs:subClassOf :Roles , :주의 ;\\\\n    rdfs:label \"주의 부서별 임무와 역할\"@ko .\\\\n\\\\n:경계_부서역할 rdf:type owl:Class ;\\\\n    rdfs:subClassOf :Roles , :경계 ;\\\\n    rdfs:label \"경계 부서별 임무와 역할\"@ko .\\\\n\\\\n:심각_부서역할 rdf:type owl:Class ;\\\\n    rdfs:subClassOf :Roles , :심각 ;\\\\n    rdfs:label \"심각 부서별 임무와 역할\"@ko .\\\\n\\\\n#################################################################\\\\n# 추가 subclass 보완 (세부 개념 반영)\\\\n#################################################################\\\\n\\\\n# 공통 조치내용 내 세부 조치 subclass (ex: 경보접수, 보고 및 전파, 조치)\\\\n:조치_경보접수 rdf:type owl:Class ;\\\\n    rdfs:label \"경보 접수\"@ko ;\\\\n    rdfs:comment \"경보 및 상황 접수 관련 조치\"@ko ;\\\\n    rdfs:subClassOf :ActionDetail .\\\\n\\\\n:조치_보고및전파 rdf:type owl:Class ;\\\\n    rdfs:label \"보고 및 전파\"@ko ;\\\\n    rdfs:comment \"보고 및 상황 전파 관련 조치\"@ko ;\\\\n    rdfs:subClassOf :ActionDetail .\\\\n\\\\n:조치_조치 rdf:type owl:Class ;\\\\n    rdfs:label \"조치\"@ko ;\\\\n    rdfs:comment \"구체적 조치 관련 항목\"@ko ;\\\\n    rdfs:subClassOf :ActionDetail .\\\\n\\\\n# 단계별 조치내용 내 하위조치 subclass 추가\\\\n\\\\n## \\\\\\'관심\\\\\\' 단계 세부조치 subclass\\\\n:관심_경보접수 rdf:type owl:Class ;\\\\n    rdfs:subClassOf :조치_경보접수 , :관심_조치내용 ;\\\\n    rdfs:label \"관심 경보 접수\"@ko .\\\\n\\\\n:관심_보고및전파 rdf:type owl:Class ;\\\\n    rdfs:subClassOf :조치_보고및전파 , :관심_조치내용 ;\\\\n    rdfs:label \"관심 보고 및 전파\"@ko .\\\\n\\\\n:관심_조치 rdf:type owl:Class ;\\\\n    rdfs:subClassOf :조치_조치 , :관심_조치내용 ;\\\\n    rdfs:label \"관심 조치\"@ko .\\\\n\\\\n## \\\\\\'주의\\\\\\' 단계 세부조치 subclass\\\\n:주의_경보및상황접수 rdf:type owl:Class ;\\\\n    rdfs:subClassOf :조치_경보접수 , :주의_조치내용 ;\\\\n    rdfs:label \"주의 경보 및 상황 접수\"@ko .\\\\n\\\\n:주의_보고및전파 rdf:type owl:Class ;\\\\n    rdfs:subClassOf :조치_보고및전파 , :주의_조치내용 ;\\\\n    rdfs:label \"주의 보고 및 전파\"@ko .\\\\n\\\\n:주의_조치 rdf:type owl:Class ;\\\\n    rdfs:subClassOf :조치_조치 , :주의_조치내용 ;\\\\n    rdfs:label \"주의 조치\"@ko .\\\\n\\\\n## \\\\\\'경계\\\\\\' 단계 세부조치 subclass\\\\n:경계_경보및상황접수 rdf:type owl:Class ;\\\\n    rdfs:subClassOf :조치_경보접수 , :경계_조치내용 ;\\\\n    rdfs:label \"경계 경보 및 상황 접수\"@ko .\\\\n\\\\n:경계_보고및전파 rdf:type owl:Class ;\\\\n    rdfs:subClassOf :조치_보고및전파 , :경계_조치내용 ;\\\\n    rdfs:label \"경계 보고 및 전파\"@ko .\\\\n\\\\n:경계_조치 rdf:type owl:Class ;\\\\n    rdfs:subClassOf :조치_조치 , :경계_조치내용 ;\\\\n    rdfs:label \"경계 조치\"@ko .\\\\n\\\\n## \\\\\\'심각\\\\\\' 단계 세부조치 subclass\\\\n:심각_경보및상황접수 rdf:type owl:Class ;\\\\n    rdfs:subClassOf :조치_경보접수 , :심각_조치내용 ;\\\\n    rdfs:label \"심각 경보 및 상황 접수\"@ko .\\\\n\\\\n:심각_보고및전파 rdf:type owl:Class ;\\\\n    rdfs:subClassOf :조치_보고및전파 , :심각_조치내용 ;\\\\n    rdfs:label \"심각 보고 및 전파\"@ko .\\\\n\\\\n:심각_조치 rdf:type owl:Class ;\\\\n    rdfs:subClassOf :조치_조치 , :심각_조치내용 ;\\\\n    rdfs:label \"심각 조치\"@ko .\\\\n\\\\n#################################################################\\\\n# 부서 역할에 대한 subclass 보완\\\\n#################################################################\\\\n\\\\n:재난안전상황실 rdf:type owl:Class ;\\\\n    rdfs:label \"재난안전상황실\"@ko ;\\\\n    rdfs:comment \"재난안전상황실 관련 역할\"@ko ;\\\\n    rdfs:subClassOf :Roles .\\\\n\\\\n:건설자산관리처 rdf:type owl:Class ;\\\\n    rdfs:label \"건설자산관리처\"@ko ;\\\\n    rdfs:comment \"건설자산관리처 관련 역할\"@ko ;\\\\n    rdfs:subClassOf :Roles .\\\\n\\\\n:매입자산관리처 rdf:type owl:Class ;\\\\n    rdfs:label \"매입자산관리처\"@ko ;\\\\n    rdfs:comment \"매입자산관리처 관련 역할\"@ko ;\\\\n    rdfs:subClassOf :Roles .\\\\n\\\\n:안전기획단 rdf:type owl:Class ;\\\\n    rdfs:label \"안전기획단\"@ko ;\\\\n    rdfs:comment \"안전기획단 관련 역할\"@ko ;\\\\n    rdfs:subClassOf :Roles .\\\\n\\\\n:경영진 rdf:type owl:Class ;\\\\n    rdfs:label \"경영진\"@ko ;\\\\n    rdfs:comment \"경영진 관련 역할\"@ko ;\\\\n    rdfs:subClassOf :Roles .\\\\n\\\\n# 단계별 부서 역할 연결(예: 심각 단계 내 재난안전상황실 역할)\\\\n:심각_재난안전상황실 rdf:type owl:Class ;\\\\n    rdfs:subClassOf :재난안전상황실 , :심각_부서역할 ;\\\\n    rdfs:label \"심각 단계 재난안전상황실 역할\"@ko .\\\\n\\\\n:심각_건설자산관리처 rdf:type owl:Class ;\\\\n    rdfs:subClassOf :건설자산관리처 , :심각_부서역할 ;\\\\n    rdfs:label \"심각 단계 건설자산관리처 역할\"@ko .\\\\n\\\\n:심각_매입자산관리처 rdf:type owl:Class ;\\\\n    rdfs:subClassOf :매입자산관리처 , :심각_부서역할 ;\\\\n    rdfs:label \"심각 단계 매입자산관리처 역할\"@ko .\\\\n\\\\n:심각_안전기획단 rdf:type owl:Class ;\\\\n    rdfs:subClassOf :안전기획단 , :심각_부서역할 ;\\\\n    rdfs:label \"심각 단계 안전기획단 역할\"@ko .\\\\n\\\\n:심각_경영진 rdf:type owl:Class ;\\\\n    rdfs:subClassOf :경영진 , :심각_부서역할 ;\\\\n    rdfs:label \"심각 단계 경영진 역할\"@ko .\\\\n\\\\n#################################################################\\\\n# 객체 속성 예시\\\\n#################################################################\\\\n\\\\n:hasSubAction rdf:type owl:ObjectProperty ;\\\\n    rdfs:domain :ActionDetail ;\\\\n    rdfs:range :ActionDetail ;\\\\n    rdfs:label \"하위 조치내용 보유\"@ko .\\\\n\\\\n:hasRole rdf:type owl:ObjectProperty ;\\\\n    rdfs:domain :Roles ;\\\\n    rdfs:range :Roles ;\\\\n    rdfs:label \"관련 부서 역할 포함\"@ko .\\\\n\\\\n```\\\\n\\\\n주요 설계 의의:\\\\n- 최상위 :Level 클래스를 두고 ‘관심’, ‘주의’, ‘경계’, ‘심각’을 서브클래스로 정의\\\\n- 각 단계별로 \\\\\\'상황\\\\\\', \\\\\\'조치목록\\\\\\', \\\\\\'조치내용\\\\\\', \\\\\\'부서별 임무와 역할\\\\\\' 클래스를 대응하여 재사용과 확장 가능하게 설계\\\\n- PDF 내 조치내용 상세 중 \"경보 및 상황 접수\", \"보고 및 전파\", \"조치\" 등 반복 항목들을 별도의 하위클래스로 추출, 각 단계별로 세부 subclass 추가\\\\n- 부서별 역할 관련 클래스(재난안전상황실, 건설자산관리처 등)를 Roles 상위클래스에 두고, 각 단계별 역할에 맞게 subclass 부여\\\\n- 기존 클래스는 변경하지 않고, 새로 드러난 하위 개념들을 subclass 형태로 추가 보완\\\\n\\\\n확인 시 추가적으로 필요한 데이터 속성이나 개체 속성 추가 가능하며, 개별 단어 (예: 접수시간, 접수자 등)는 속성(Property)으로 구분하여 추후 확장 가능함.\\\\n\\\\n위 온톨로지는 주어진 목차 구조와 PDF 내용에서 파악된 주요 개념들을 논리적으로 구조화하여 OWL/TTL 문법 기준으로 구현하였으며, 기존 클래스는 변경하지 않고 subclass 추가 보완 원칙을 준수하였습니다.\\\\n\\\\n필요시 세부 인스턴스나 데이터 프로퍼티, 관계 다양화도 가능함을 참고하세요. \\\\n\\\\n【14:목차.txt】【15:목차.txt】【16:목차.txt】【17:목차.txt】【18:목차.txt】【19:목차.txt】【4:위기경보수준별조치사항.pdf】\\'), type=\\'text\\')], created_at=1757053514, incomplete_at=None, incomplete_details=None, metadata={}, object=\\'thread.message\\', role=\\'assistant\\', run_id=\\'run_Q7zMt34VLoEelS2hIxS3RrrB\\', status=None, thread_id=\\'thread_J7FGiLdcbYS7RlDbzNLe9b1O\\'), Message(id=\\'msg_hQz1VPu9tQ8SnhiqWrVkXlCT\\', assistant_id=None, attachments=[Attachment(file_id=\\'file-Dd8cmTNapHwgW7fdo5zNDu\\', tools=[AttachmentToolAssistantToolsFileSearchTypeOnly(type=\\'file_search\\')]), Attachment(file_id=\\'file-4vA8ppcU7jy7BM8aRU5Frn\\', tools=[AttachmentToolAssistantToolsFileSearchTypeOnly(type=\\'file_search\\')])], completed_at=None, content=[TextContentBlock(text=Text(annotations=[], value=\\'\"\\\\n\\\\n 첨부된 파일들을 분석하여 TTL 파일을 생성해주세요. 생성 후에는 첨부된 PDF 문서를 한 페이지씩 읽어서, subclass를 보완하여 추가해주세요. 이 때 기존의 요소들은 변경하지 않고 유지한 상태로 추가만 진행합니다.\\'), type=\\'text\\')], created_at=1757053508, incomplete_at=None, incomplete_details=None, metadata={}, object=\\'thread.message\\', role=\\'user\\', run_id=None, status=None, thread_id=\\'thread_J7FGiLdcbYS7RlDbzNLe9b1O\\')], has_more=False, object=\\'list\\', first_id=\\'msg_fwAlEOtorytdtHFi7aQzhUxS\\', last_id=\\'msg_hQz1VPu9tQ8SnhiqWrVkXlCT\\')']\n"
     ]
    }
   ],
   "source": [
    "print([str(ontology_message)][:10])"
   ]
  },
  {
   "cell_type": "markdown",
   "id": "aac5d689",
   "metadata": {},
   "source": [
    "### 응답 결과 TTL 추출 O"
   ]
  },
  {
   "cell_type": "code",
   "execution_count": 19,
   "id": "923afc98",
   "metadata": {},
   "outputs": [],
   "source": [
    "def _validate_basic_ttl_syntax(ttl_content):\n",
    "    \"\"\"\n",
    "    기본적인 TTL 문법 검증\n",
    "    \n",
    "    Args:\n",
    "        ttl_content: TTL 내용 문자열\n",
    "    \n",
    "    Returns:\n",
    "        bool: 기본 문법이 올바른지 여부\n",
    "    \"\"\"\n",
    "    try:\n",
    "        # 기본적인 TTL 요소들 확인\n",
    "        has_prefix = '@prefix' in ttl_content or '@base' in ttl_content\n",
    "        has_class = 'rdfs:Class' in ttl_content or 'owl:Class' in ttl_content\n",
    "        has_proper_ending = ttl_content.strip().endswith('.')\n",
    "        \n",
    "        # 괄호 균형 확인\n",
    "        open_brackets = ttl_content.count('[')\n",
    "        close_brackets = ttl_content.count(']')\n",
    "        bracket_balanced = open_brackets == close_brackets\n",
    "        \n",
    "        # 세미콜론과 마침표 확인\n",
    "        has_semicolons = ';' in ttl_content\n",
    "        has_periods = '.' in ttl_content\n",
    "        \n",
    "        validation_result = has_prefix and has_class and has_proper_ending and bracket_balanced\n",
    "        \n",
    "        if not validation_result:\n",
    "            print_status(\"기본 TTL 문법 검증 실패\", \"WARNING\")\n",
    "            print_status(f\"  - Prefix 선언: {has_prefix}\", \"INFO\")\n",
    "            print_status(f\"  - Class 선언: {has_class}\", \"INFO\")\n",
    "            print_status(f\"  - 올바른 종료: {has_proper_ending}\", \"INFO\")\n",
    "            print_status(f\"  - 괄호 균형: {bracket_balanced}\", \"INFO\")\n",
    "        \n",
    "        return validation_result\n",
    "        \n",
    "    except Exception as e:\n",
    "        print_status(f\"TTL 문법 검증 중 오류: {str(e)}\", \"ERROR\")\n",
    "        return False"
   ]
  },
  {
   "cell_type": "code",
   "execution_count": 20,
   "id": "9aeeb8c0",
   "metadata": {},
   "outputs": [],
   "source": [
    "import re\n",
    "\n",
    "def extract_ttl_from_response(message):\n",
    "    try:\n",
    "        if not getattr(message, \"data\", None):\n",
    "            print_status(\"응답 메세지 없음\", \"ERROR\")\n",
    "            return None, False\n",
    "\n",
    "        latest = message.data[0]\n",
    "        if not latest.content:\n",
    "            print_status(\"메세지 내용 없음\", \"ERROR\")\n",
    "            return None, False\n",
    "\n",
    "        message_text = \"\"\n",
    "        for item in latest.content:\n",
    "            if hasattr(item, \"text\") and item.text and hasattr(item.text, \"value\"):\n",
    "                message_text += item.text.value\n",
    "\n",
    "        if not message_text.strip():\n",
    "            print_status(\"텍스트 내용을 찾을 수 없습니다.\", \"ERROR\")\n",
    "            return None, False\n",
    "\n",
    "        ttl_patterns = [\n",
    "            r\"```ttl\\n(.*?)\\n```\",         # 1\n",
    "            r\"```turtle\\n(.*?)\\n```\",      # 2\n",
    "            r\"```\\n(.*?)\\n```\",            # 3\n",
    "            r\"```ttl\\s*\\n(.*?)\\n```\",      # 4\n",
    "            r\"```turtle\\s*\\n(.*?)\\n```\",   # 5\n",
    "        ]\n",
    "\n",
    "        PATTERN_EXPLANATIONS = {\n",
    "            1: \"```ttl 코드블록에서 추출됨\",\n",
    "            2: \"```turtle 코드블록에서 추출됨\",\n",
    "            3: \"라벨 없는 일반 ``` 코드블록에서 추출됨\",\n",
    "            4: \"공백 포함 ```ttl 코드블록에서 추출됨\",\n",
    "            5: \"공백 포함 ```turtle 코드블록에서 추출됨\",\n",
    "            0: \"코드블록 미탐지 → 전체 응답을 사용하여 추출됨(폴백)\",\n",
    "        }\n",
    "\n",
    "        ttl_content = None\n",
    "        matched_idx = 0\n",
    "\n",
    "        for i, pattern in enumerate(ttl_patterns, start=1):\n",
    "            match = re.search(pattern, message_text, re.DOTALL | re.IGNORECASE)\n",
    "            \n",
    "            if match:\n",
    "                ttl_content = match.group(1).strip()\n",
    "                matched_idx = i\n",
    "                break\n",
    "                \n",
    "        if not ttl_content:\n",
    "            matched_idx = 0\n",
    "            print_status(\"TTL 블록을 찾을 수 없습니다.\", \"ERROR\")\n",
    "        \n",
    "        if len(ttl_content.strip()) < 50 :\n",
    "            print_status(\"추출된 내용이 너무 짧습니다.\", \"ERROR\")\n",
    "\n",
    "        if not _validate_basic_ttl_syntax(ttl_content):\n",
    "            print_status(\"TTL 문법을 확인해보세요.\", \"WARNING\")\n",
    "\n",
    "\n",
    "        print_status(f\"TTL 추출 완료 (패턴 {matched_idx}) - {PATTERN_EXPLANATIONS[matched_idx]}\", \"SUCCESS\" if matched_idx else \"WARNING\")\n",
    "        return ttl_content, True\n",
    "\n",
    "    except Exception as e:\n",
    "        print_status(f\"TTL 추출 중 오류가 발생했습니다.: {e}\", \"ERROR\")\n"
   ]
  },
  {
   "cell_type": "code",
   "execution_count": 21,
   "id": "dc419cb9",
   "metadata": {},
   "outputs": [
    {
     "name": "stdout",
     "output_type": "stream",
     "text": [
      "\u001b[92m[SUCCESS] TTL 추출 완료 (패턴 2) - ```turtle 코드블록에서 추출됨\u001b[0m\n"
     ]
    }
   ],
   "source": [
    "ontology_ttl_content = extract_ttl_from_response(ontology_message)\n",
    "\n",
    "# 위에서 튜플 형태로 출력되기 떄문에 str로 변환해야 정상적으로 ttl 파일이 저장됨\n",
    "# ('@prefix ex:     <http://example.org/disaster#> .\\n@prefix rdfs: \n",
    "# ->  @prefix ex:     <http://example.org/disaster#> .\n",
    "ontology_ttl_content_str = ontology_ttl_content[0]"
   ]
  },
  {
   "cell_type": "markdown",
   "id": "010d3778",
   "metadata": {},
   "source": [
    "### TTL 파일 생성 후 저장 O"
   ]
  },
  {
   "cell_type": "code",
   "execution_count": 22,
   "id": "6ec0d7e2",
   "metadata": {},
   "outputs": [],
   "source": [
    "def extract_filename(official_docs_path):\n",
    "    \"\"\"\n",
    "    공공기관 문서명 추출\n",
    "    \"\"\"\n",
    "    official_docs_name = os.path.basename(official_docs_path)\n",
    "    official_docs_name_without_ext = os.path.splitext(official_docs_name)[0]\n",
    "    return official_docs_name_without_ext\n"
   ]
  },
  {
   "cell_type": "code",
   "execution_count": 23,
   "id": "ac98034a",
   "metadata": {},
   "outputs": [],
   "source": [
    "from datetime import datetime\n",
    "\n",
    "def save_ttl_file(ttl_content, filename=None, output_dir=\"Ontology_Output\"):\n",
    "    try:\n",
    "        \n",
    "        # 저장할 디렉토리가 없을 경우 생성\n",
    "        if not os.path.exists(output_dir):\n",
    "            os.makedirs(output_dir)\n",
    "            print_status(f\"결과물을 저장할 폴더를 생성했습니다. : {output_dir}\", \"SUCCESS\")\n",
    "\n",
    "        # 파일명 설정\n",
    "        if filename:\n",
    "            timestamp = datetime.now().strftime(\"%Y%m%d_%H%M\")\n",
    "            filename = f\"{filename}_Class_{timestamp}.ttl\"\n",
    "\n",
    "        # 파일 확장자 확인\n",
    "        if not filename.endswith('.ttl'):\n",
    "            filename += '.ttl'\n",
    "\n",
    "        # 전체 파일 경로\n",
    "        file_path = os.path.join(output_dir, filename)\n",
    "\n",
    "        # 내용 검증\n",
    "        if not ttl_content or len(ttl_content.strip()) < 50:\n",
    "            return None, False, \"저장할 TTL 내용이 유효하지 않습니다.\"\n",
    "\n",
    "        with open(file_path, 'w', encoding='utf-8') as f:\n",
    "            # 내용 저장\n",
    "            f.write(ttl_content)\n",
    "\n",
    "            # footer\n",
    "            f.write(\"# End of TTL File\\n\")\n",
    "\n",
    "        file_size = os.path.getsize(file_path)\n",
    "        file_size_kb = file_size / 1024\n",
    "\n",
    "        print_status(\"TTL 파일 생성 완료\", \"SUCCESS\")\n",
    "        print_status(f\"{filename} 파일 경로: {file_path}\", \"INFO\")\n",
    "        print_status(f\"{filename} 파일 크기: {file_size_kb:.2f}KB\", \"INFO\")\n",
    "        print_status(f\"{filename} 내용 길이: {len(ttl_content)}자\", \"INFO\")\n",
    "\n",
    "\n",
    "    except Exception as e:\n",
    "        print_status(f\"TTL 파일 생성 실패: {e}\", \"ERROR\")\n",
    "        return None"
   ]
  },
  {
   "cell_type": "code",
   "execution_count": 24,
   "id": "808d6976",
   "metadata": {},
   "outputs": [
    {
     "name": "stdout",
     "output_type": "stream",
     "text": [
      "위기경보수준별조치사항\n"
     ]
    }
   ],
   "source": [
    "action_level_docs_name = extract_filename(actions_level_docs_path)\n",
    "print(action_level_docs_name)"
   ]
  },
  {
   "cell_type": "code",
   "execution_count": 25,
   "id": "808b1f41",
   "metadata": {},
   "outputs": [
    {
     "name": "stdout",
     "output_type": "stream",
     "text": [
      "\u001b[92m[SUCCESS] TTL 파일 생성 완료\u001b[0m\n",
      "\u001b[94m[INFO] 위기경보수준별조치사항_Class_20250905_1526.ttl 파일 경로: Ontology_Output\\위기경보수준별조치사항_Class_20250905_1526.ttl\u001b[0m\n",
      "\u001b[94m[INFO] 위기경보수준별조치사항_Class_20250905_1526.ttl 파일 크기: 9.44KB\u001b[0m\n",
      "\u001b[94m[INFO] 위기경보수준별조치사항_Class_20250905_1526.ttl 내용 길이: 7044자\u001b[0m\n"
     ]
    }
   ],
   "source": [
    "final_output = save_ttl_file(ontology_ttl_content_str, action_level_docs_name)"
   ]
  },
  {
   "cell_type": "code",
   "execution_count": null,
   "id": "8bfdd83e",
   "metadata": {},
   "outputs": [],
   "source": []
  }
 ],
 "metadata": {
  "kernelspec": {
   "display_name": "Python 3",
   "language": "python",
   "name": "python3"
  },
  "language_info": {
   "codemirror_mode": {
    "name": "ipython",
    "version": 3
   },
   "file_extension": ".py",
   "mimetype": "text/x-python",
   "name": "python",
   "nbconvert_exporter": "python",
   "pygments_lexer": "ipython3",
   "version": "3.11.9"
  }
 },
 "nbformat": 4,
 "nbformat_minor": 5
}
